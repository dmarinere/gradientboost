{
  "cells": [
    {
      "cell_type": "code",
      "execution_count": null,
      "metadata": {
        "id": "JXVFWgdApVMc"
      },
      "outputs": [],
      "source": [
        "# Import Libraries \n",
        "import numpy as np\n",
        "import pandas as pd\n",
        "%matplotlib inline\n",
        "import matplotlib.pyplot as plt\n",
        "import seaborn as sns"
      ]
    },
    {
      "cell_type": "code",
      "execution_count": null,
      "metadata": {
        "colab": {
          "base_uri": "https://localhost:8080/",
          "height": 73,
          "resources": {
            "http://localhost:8080/nbextensions/google.colab/files.js": {
              "data": "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",
              "headers": [
                [
                  "content-type",
                  "application/javascript"
                ]
              ],
              "ok": true,
              "status": 200,
              "status_text": ""
            }
          }
        },
        "id": "7v4ju35ppzmU",
        "outputId": "7e8d967e-8837-4f55-dcbe-183091cfe203"
      },
      "outputs": [
        {
          "data": {
            "text/html": [
              "\n",
              "     <input type=\"file\" id=\"files-b13b1dc2-2ef0-40c5-972b-6530d6c163ef\" name=\"files[]\" multiple disabled\n",
              "        style=\"border:none\" />\n",
              "     <output id=\"result-b13b1dc2-2ef0-40c5-972b-6530d6c163ef\">\n",
              "      Upload widget is only available when the cell has been executed in the\n",
              "      current browser session. Please rerun this cell to enable.\n",
              "      </output>\n",
              "      <script src=\"/nbextensions/google.colab/files.js\"></script> "
            ],
            "text/plain": [
              "<IPython.core.display.HTML object>"
            ]
          },
          "metadata": {
            "tags": []
          },
          "output_type": "display_data"
        },
        {
          "name": "stdout",
          "output_type": "stream",
          "text": [
            "Saving cleaned_rent.csv to cleaned_rent.csv\n"
          ]
        }
      ],
      "source": []
    },
    {
      "cell_type": "code",
      "execution_count": 3,
      "metadata": {
        "id": "ipno-eZRrvPk"
      },
      "outputs": [
        {
          "ename": "FileNotFoundError",
          "evalue": "[Errno 2] No such file or directory: 'cleaned_rent.csv'",
          "output_type": "error",
          "traceback": [
            "\u001b[0;31m---------------------------------------------------------------------------\u001b[0m",
            "\u001b[0;31mFileNotFoundError\u001b[0m                         Traceback (most recent call last)",
            "\u001b[0;32m<ipython-input-3-2049e0f67054>\u001b[0m in \u001b[0;36m<module>\u001b[0;34m\u001b[0m\n\u001b[1;32m      1\u001b[0m \u001b[0;31m# Read the data using pandas\u001b[0m\u001b[0;34m\u001b[0m\u001b[0;34m\u001b[0m\u001b[0;34m\u001b[0m\u001b[0m\n\u001b[0;32m----> 2\u001b[0;31m \u001b[0mdf\u001b[0m \u001b[0;34m=\u001b[0m \u001b[0mpd\u001b[0m\u001b[0;34m.\u001b[0m\u001b[0mread_csv\u001b[0m\u001b[0;34m(\u001b[0m\u001b[0;34m\"cleaned_rent.csv\"\u001b[0m\u001b[0;34m)\u001b[0m\u001b[0;34m\u001b[0m\u001b[0;34m\u001b[0m\u001b[0m\n\u001b[0m\u001b[1;32m      3\u001b[0m \u001b[0;34m\u001b[0m\u001b[0m\n",
            "\u001b[0;32m~/.local/lib/python3.8/site-packages/pandas/io/parsers.py\u001b[0m in \u001b[0;36mread_csv\u001b[0;34m(filepath_or_buffer, sep, delimiter, header, names, index_col, usecols, squeeze, prefix, mangle_dupe_cols, dtype, engine, converters, true_values, false_values, skipinitialspace, skiprows, skipfooter, nrows, na_values, keep_default_na, na_filter, verbose, skip_blank_lines, parse_dates, infer_datetime_format, keep_date_col, date_parser, dayfirst, cache_dates, iterator, chunksize, compression, thousands, decimal, lineterminator, quotechar, quoting, doublequote, escapechar, comment, encoding, dialect, error_bad_lines, warn_bad_lines, delim_whitespace, low_memory, memory_map, float_precision, storage_options)\u001b[0m\n\u001b[1;32m    608\u001b[0m     \u001b[0mkwds\u001b[0m\u001b[0;34m.\u001b[0m\u001b[0mupdate\u001b[0m\u001b[0;34m(\u001b[0m\u001b[0mkwds_defaults\u001b[0m\u001b[0;34m)\u001b[0m\u001b[0;34m\u001b[0m\u001b[0;34m\u001b[0m\u001b[0m\n\u001b[1;32m    609\u001b[0m \u001b[0;34m\u001b[0m\u001b[0m\n\u001b[0;32m--> 610\u001b[0;31m     \u001b[0;32mreturn\u001b[0m \u001b[0m_read\u001b[0m\u001b[0;34m(\u001b[0m\u001b[0mfilepath_or_buffer\u001b[0m\u001b[0;34m,\u001b[0m \u001b[0mkwds\u001b[0m\u001b[0;34m)\u001b[0m\u001b[0;34m\u001b[0m\u001b[0;34m\u001b[0m\u001b[0m\n\u001b[0m\u001b[1;32m    611\u001b[0m \u001b[0;34m\u001b[0m\u001b[0m\n\u001b[1;32m    612\u001b[0m \u001b[0;34m\u001b[0m\u001b[0m\n",
            "\u001b[0;32m~/.local/lib/python3.8/site-packages/pandas/io/parsers.py\u001b[0m in \u001b[0;36m_read\u001b[0;34m(filepath_or_buffer, kwds)\u001b[0m\n\u001b[1;32m    460\u001b[0m \u001b[0;34m\u001b[0m\u001b[0m\n\u001b[1;32m    461\u001b[0m     \u001b[0;31m# Create the parser.\u001b[0m\u001b[0;34m\u001b[0m\u001b[0;34m\u001b[0m\u001b[0;34m\u001b[0m\u001b[0m\n\u001b[0;32m--> 462\u001b[0;31m     \u001b[0mparser\u001b[0m \u001b[0;34m=\u001b[0m \u001b[0mTextFileReader\u001b[0m\u001b[0;34m(\u001b[0m\u001b[0mfilepath_or_buffer\u001b[0m\u001b[0;34m,\u001b[0m \u001b[0;34m**\u001b[0m\u001b[0mkwds\u001b[0m\u001b[0;34m)\u001b[0m\u001b[0;34m\u001b[0m\u001b[0;34m\u001b[0m\u001b[0m\n\u001b[0m\u001b[1;32m    463\u001b[0m \u001b[0;34m\u001b[0m\u001b[0m\n\u001b[1;32m    464\u001b[0m     \u001b[0;32mif\u001b[0m \u001b[0mchunksize\u001b[0m \u001b[0;32mor\u001b[0m \u001b[0miterator\u001b[0m\u001b[0;34m:\u001b[0m\u001b[0;34m\u001b[0m\u001b[0;34m\u001b[0m\u001b[0m\n",
            "\u001b[0;32m~/.local/lib/python3.8/site-packages/pandas/io/parsers.py\u001b[0m in \u001b[0;36m__init__\u001b[0;34m(self, f, engine, **kwds)\u001b[0m\n\u001b[1;32m    817\u001b[0m             \u001b[0mself\u001b[0m\u001b[0;34m.\u001b[0m\u001b[0moptions\u001b[0m\u001b[0;34m[\u001b[0m\u001b[0;34m\"has_index_names\"\u001b[0m\u001b[0;34m]\u001b[0m \u001b[0;34m=\u001b[0m \u001b[0mkwds\u001b[0m\u001b[0;34m[\u001b[0m\u001b[0;34m\"has_index_names\"\u001b[0m\u001b[0;34m]\u001b[0m\u001b[0;34m\u001b[0m\u001b[0;34m\u001b[0m\u001b[0m\n\u001b[1;32m    818\u001b[0m \u001b[0;34m\u001b[0m\u001b[0m\n\u001b[0;32m--> 819\u001b[0;31m         \u001b[0mself\u001b[0m\u001b[0;34m.\u001b[0m\u001b[0m_engine\u001b[0m \u001b[0;34m=\u001b[0m \u001b[0mself\u001b[0m\u001b[0;34m.\u001b[0m\u001b[0m_make_engine\u001b[0m\u001b[0;34m(\u001b[0m\u001b[0mself\u001b[0m\u001b[0;34m.\u001b[0m\u001b[0mengine\u001b[0m\u001b[0;34m)\u001b[0m\u001b[0;34m\u001b[0m\u001b[0;34m\u001b[0m\u001b[0m\n\u001b[0m\u001b[1;32m    820\u001b[0m \u001b[0;34m\u001b[0m\u001b[0m\n\u001b[1;32m    821\u001b[0m     \u001b[0;32mdef\u001b[0m \u001b[0mclose\u001b[0m\u001b[0;34m(\u001b[0m\u001b[0mself\u001b[0m\u001b[0;34m)\u001b[0m\u001b[0;34m:\u001b[0m\u001b[0;34m\u001b[0m\u001b[0;34m\u001b[0m\u001b[0m\n",
            "\u001b[0;32m~/.local/lib/python3.8/site-packages/pandas/io/parsers.py\u001b[0m in \u001b[0;36m_make_engine\u001b[0;34m(self, engine)\u001b[0m\n\u001b[1;32m   1048\u001b[0m             )\n\u001b[1;32m   1049\u001b[0m         \u001b[0;31m# error: Too many arguments for \"ParserBase\"\u001b[0m\u001b[0;34m\u001b[0m\u001b[0;34m\u001b[0m\u001b[0;34m\u001b[0m\u001b[0m\n\u001b[0;32m-> 1050\u001b[0;31m         \u001b[0;32mreturn\u001b[0m \u001b[0mmapping\u001b[0m\u001b[0;34m[\u001b[0m\u001b[0mengine\u001b[0m\u001b[0;34m]\u001b[0m\u001b[0;34m(\u001b[0m\u001b[0mself\u001b[0m\u001b[0;34m.\u001b[0m\u001b[0mf\u001b[0m\u001b[0;34m,\u001b[0m \u001b[0;34m**\u001b[0m\u001b[0mself\u001b[0m\u001b[0;34m.\u001b[0m\u001b[0moptions\u001b[0m\u001b[0;34m)\u001b[0m  \u001b[0;31m# type: ignore[call-arg]\u001b[0m\u001b[0;34m\u001b[0m\u001b[0;34m\u001b[0m\u001b[0m\n\u001b[0m\u001b[1;32m   1051\u001b[0m \u001b[0;34m\u001b[0m\u001b[0m\n\u001b[1;32m   1052\u001b[0m     \u001b[0;32mdef\u001b[0m \u001b[0m_failover_to_python\u001b[0m\u001b[0;34m(\u001b[0m\u001b[0mself\u001b[0m\u001b[0;34m)\u001b[0m\u001b[0;34m:\u001b[0m\u001b[0;34m\u001b[0m\u001b[0;34m\u001b[0m\u001b[0m\n",
            "\u001b[0;32m~/.local/lib/python3.8/site-packages/pandas/io/parsers.py\u001b[0m in \u001b[0;36m__init__\u001b[0;34m(self, src, **kwds)\u001b[0m\n\u001b[1;32m   1865\u001b[0m \u001b[0;34m\u001b[0m\u001b[0m\n\u001b[1;32m   1866\u001b[0m         \u001b[0;31m# open handles\u001b[0m\u001b[0;34m\u001b[0m\u001b[0;34m\u001b[0m\u001b[0;34m\u001b[0m\u001b[0m\n\u001b[0;32m-> 1867\u001b[0;31m         \u001b[0mself\u001b[0m\u001b[0;34m.\u001b[0m\u001b[0m_open_handles\u001b[0m\u001b[0;34m(\u001b[0m\u001b[0msrc\u001b[0m\u001b[0;34m,\u001b[0m \u001b[0mkwds\u001b[0m\u001b[0;34m)\u001b[0m\u001b[0;34m\u001b[0m\u001b[0;34m\u001b[0m\u001b[0m\n\u001b[0m\u001b[1;32m   1868\u001b[0m         \u001b[0;32massert\u001b[0m \u001b[0mself\u001b[0m\u001b[0;34m.\u001b[0m\u001b[0mhandles\u001b[0m \u001b[0;32mis\u001b[0m \u001b[0;32mnot\u001b[0m \u001b[0;32mNone\u001b[0m\u001b[0;34m\u001b[0m\u001b[0;34m\u001b[0m\u001b[0m\n\u001b[1;32m   1869\u001b[0m         \u001b[0;32mfor\u001b[0m \u001b[0mkey\u001b[0m \u001b[0;32min\u001b[0m \u001b[0;34m(\u001b[0m\u001b[0;34m\"storage_options\"\u001b[0m\u001b[0;34m,\u001b[0m \u001b[0;34m\"encoding\"\u001b[0m\u001b[0;34m,\u001b[0m \u001b[0;34m\"memory_map\"\u001b[0m\u001b[0;34m,\u001b[0m \u001b[0;34m\"compression\"\u001b[0m\u001b[0;34m)\u001b[0m\u001b[0;34m:\u001b[0m\u001b[0;34m\u001b[0m\u001b[0;34m\u001b[0m\u001b[0m\n",
            "\u001b[0;32m~/.local/lib/python3.8/site-packages/pandas/io/parsers.py\u001b[0m in \u001b[0;36m_open_handles\u001b[0;34m(self, src, kwds)\u001b[0m\n\u001b[1;32m   1360\u001b[0m         \u001b[0mLet\u001b[0m \u001b[0mthe\u001b[0m \u001b[0mreaders\u001b[0m \u001b[0mopen\u001b[0m \u001b[0mIOHanldes\u001b[0m \u001b[0mafter\u001b[0m \u001b[0mthey\u001b[0m \u001b[0mare\u001b[0m \u001b[0mdone\u001b[0m \u001b[0;32mwith\u001b[0m \u001b[0mtheir\u001b[0m \u001b[0mpotential\u001b[0m \u001b[0mraises\u001b[0m\u001b[0;34m.\u001b[0m\u001b[0;34m\u001b[0m\u001b[0;34m\u001b[0m\u001b[0m\n\u001b[1;32m   1361\u001b[0m         \"\"\"\n\u001b[0;32m-> 1362\u001b[0;31m         self.handles = get_handle(\n\u001b[0m\u001b[1;32m   1363\u001b[0m             \u001b[0msrc\u001b[0m\u001b[0;34m,\u001b[0m\u001b[0;34m\u001b[0m\u001b[0;34m\u001b[0m\u001b[0m\n\u001b[1;32m   1364\u001b[0m             \u001b[0;34m\"r\"\u001b[0m\u001b[0;34m,\u001b[0m\u001b[0;34m\u001b[0m\u001b[0;34m\u001b[0m\u001b[0m\n",
            "\u001b[0;32m~/.local/lib/python3.8/site-packages/pandas/io/common.py\u001b[0m in \u001b[0;36mget_handle\u001b[0;34m(path_or_buf, mode, encoding, compression, memory_map, is_text, errors, storage_options)\u001b[0m\n\u001b[1;32m    640\u001b[0m                 \u001b[0merrors\u001b[0m \u001b[0;34m=\u001b[0m \u001b[0;34m\"replace\"\u001b[0m\u001b[0;34m\u001b[0m\u001b[0;34m\u001b[0m\u001b[0m\n\u001b[1;32m    641\u001b[0m             \u001b[0;31m# Encoding\u001b[0m\u001b[0;34m\u001b[0m\u001b[0;34m\u001b[0m\u001b[0;34m\u001b[0m\u001b[0m\n\u001b[0;32m--> 642\u001b[0;31m             handle = open(\n\u001b[0m\u001b[1;32m    643\u001b[0m                 \u001b[0mhandle\u001b[0m\u001b[0;34m,\u001b[0m\u001b[0;34m\u001b[0m\u001b[0;34m\u001b[0m\u001b[0m\n\u001b[1;32m    644\u001b[0m                 \u001b[0mioargs\u001b[0m\u001b[0;34m.\u001b[0m\u001b[0mmode\u001b[0m\u001b[0;34m,\u001b[0m\u001b[0;34m\u001b[0m\u001b[0;34m\u001b[0m\u001b[0m\n",
            "\u001b[0;31mFileNotFoundError\u001b[0m: [Errno 2] No such file or directory: 'cleaned_rent.csv'"
          ]
        }
      ],
      "source": [
        "# Read the data using pandas\n",
        "df = pd.read_csv(\"/cleaned_rent.csv\")\n",
        "\n"
      ]
    },
    {
      "cell_type": "code",
      "execution_count": null,
      "metadata": {
        "colab": {
          "base_uri": "https://localhost:8080/",
          "height": 287
        },
        "id": "loQHWUyvsgY2",
        "outputId": "43ddd406-ad5f-4003-8369-26c5cb83eae4"
      },
      "outputs": [
        {
          "data": {
            "text/html": [
              "<div>\n",
              "<style scoped>\n",
              "    .dataframe tbody tr th:only-of-type {\n",
              "        vertical-align: middle;\n",
              "    }\n",
              "\n",
              "    .dataframe tbody tr th {\n",
              "        vertical-align: top;\n",
              "    }\n",
              "\n",
              "    .dataframe thead th {\n",
              "        text-align: right;\n",
              "    }\n",
              "</style>\n",
              "<table border=\"1\" class=\"dataframe\">\n",
              "  <thead>\n",
              "    <tr style=\"text-align: right;\">\n",
              "      <th></th>\n",
              "      <th>Price</th>\n",
              "      <th>Bed</th>\n",
              "      <th>Bath</th>\n",
              "      <th>Toilet</th>\n",
              "      <th>Property Type</th>\n",
              "      <th>Area</th>\n",
              "      <th>Purchase Type</th>\n",
              "      <th>Parking Space</th>\n",
              "      <th>Security</th>\n",
              "      <th>Electricity</th>\n",
              "      <th>Furnished</th>\n",
              "      <th>Security Doors</th>\n",
              "      <th>CCTV</th>\n",
              "      <th>BQ</th>\n",
              "      <th>Gym</th>\n",
              "      <th>Pool</th>\n",
              "    </tr>\n",
              "  </thead>\n",
              "  <tbody>\n",
              "    <tr>\n",
              "      <th>0</th>\n",
              "      <td>800000.0</td>\n",
              "      <td>2.0</td>\n",
              "      <td>3.0</td>\n",
              "      <td>3.0</td>\n",
              "      <td>Flat / apartment</td>\n",
              "      <td>ajah</td>\n",
              "      <td>rent</td>\n",
              "      <td>0</td>\n",
              "      <td>0</td>\n",
              "      <td>0</td>\n",
              "      <td>0</td>\n",
              "      <td>0</td>\n",
              "      <td>0</td>\n",
              "      <td>0</td>\n",
              "      <td>0</td>\n",
              "      <td>0</td>\n",
              "    </tr>\n",
              "    <tr>\n",
              "      <th>1</th>\n",
              "      <td>700000.0</td>\n",
              "      <td>1.0</td>\n",
              "      <td>2.0</td>\n",
              "      <td>2.0</td>\n",
              "      <td>Mini flat</td>\n",
              "      <td>ajah</td>\n",
              "      <td>rent</td>\n",
              "      <td>0</td>\n",
              "      <td>0</td>\n",
              "      <td>0</td>\n",
              "      <td>0</td>\n",
              "      <td>0</td>\n",
              "      <td>0</td>\n",
              "      <td>0</td>\n",
              "      <td>0</td>\n",
              "      <td>0</td>\n",
              "    </tr>\n",
              "    <tr>\n",
              "      <th>2</th>\n",
              "      <td>900000.0</td>\n",
              "      <td>1.0</td>\n",
              "      <td>1.0</td>\n",
              "      <td>2.0</td>\n",
              "      <td>Mini flat</td>\n",
              "      <td>ajah</td>\n",
              "      <td>rent</td>\n",
              "      <td>0</td>\n",
              "      <td>0</td>\n",
              "      <td>0</td>\n",
              "      <td>0</td>\n",
              "      <td>0</td>\n",
              "      <td>0</td>\n",
              "      <td>0</td>\n",
              "      <td>0</td>\n",
              "      <td>0</td>\n",
              "    </tr>\n",
              "    <tr>\n",
              "      <th>3</th>\n",
              "      <td>1100000.0</td>\n",
              "      <td>3.0</td>\n",
              "      <td>3.0</td>\n",
              "      <td>4.0</td>\n",
              "      <td>Flat / apartment</td>\n",
              "      <td>ajah</td>\n",
              "      <td>rent</td>\n",
              "      <td>0</td>\n",
              "      <td>0</td>\n",
              "      <td>0</td>\n",
              "      <td>0</td>\n",
              "      <td>0</td>\n",
              "      <td>0</td>\n",
              "      <td>0</td>\n",
              "      <td>0</td>\n",
              "      <td>0</td>\n",
              "    </tr>\n",
              "    <tr>\n",
              "      <th>4</th>\n",
              "      <td>1800000.0</td>\n",
              "      <td>4.0</td>\n",
              "      <td>4.0</td>\n",
              "      <td>4.0</td>\n",
              "      <td>Detached bungalow</td>\n",
              "      <td>ajah</td>\n",
              "      <td>rent</td>\n",
              "      <td>1</td>\n",
              "      <td>0</td>\n",
              "      <td>0</td>\n",
              "      <td>1</td>\n",
              "      <td>0</td>\n",
              "      <td>0</td>\n",
              "      <td>1</td>\n",
              "      <td>0</td>\n",
              "      <td>0</td>\n",
              "    </tr>\n",
              "  </tbody>\n",
              "</table>\n",
              "</div>"
            ],
            "text/plain": [
              "       Price  Bed  Bath  Toilet  ... CCTV BQ Gym  Pool\n",
              "0   800000.0  2.0   3.0     3.0  ...    0  0   0     0\n",
              "1   700000.0  1.0   2.0     2.0  ...    0  0   0     0\n",
              "2   900000.0  1.0   1.0     2.0  ...    0  0   0     0\n",
              "3  1100000.0  3.0   3.0     4.0  ...    0  0   0     0\n",
              "4  1800000.0  4.0   4.0     4.0  ...    0  1   0     0\n",
              "\n",
              "[5 rows x 16 columns]"
            ]
          },
          "execution_count": 5,
          "metadata": {
            "tags": []
          },
          "output_type": "execute_result"
        }
      ],
      "source": [
        "# Head View of the data\n",
        "df.head()"
      ]
    },
    {
      "cell_type": "code",
      "execution_count": null,
      "metadata": {
        "colab": {
          "base_uri": "https://localhost:8080/"
        },
        "id": "OLgZWgkysnVS",
        "outputId": "ebffda98-978d-4603-e8a7-09147a44d29a"
      },
      "outputs": [
        {
          "name": "stdout",
          "output_type": "stream",
          "text": [
            "<class 'pandas.core.frame.DataFrame'>\n",
            "RangeIndex: 28562 entries, 0 to 28561\n",
            "Data columns (total 16 columns):\n",
            " #   Column          Non-Null Count  Dtype  \n",
            "---  ------          --------------  -----  \n",
            " 0   Price           28562 non-null  float64\n",
            " 1   Bed             28562 non-null  float64\n",
            " 2   Bath            28562 non-null  float64\n",
            " 3   Toilet          28562 non-null  float64\n",
            " 4   Property Type   28562 non-null  object \n",
            " 5   Area            28562 non-null  object \n",
            " 6   Purchase Type   28562 non-null  object \n",
            " 7   Parking Space   28562 non-null  int64  \n",
            " 8   Security        28562 non-null  int64  \n",
            " 9   Electricity     28562 non-null  int64  \n",
            " 10  Furnished       28562 non-null  int64  \n",
            " 11  Security Doors  28562 non-null  int64  \n",
            " 12  CCTV            28562 non-null  int64  \n",
            " 13  BQ              28562 non-null  int64  \n",
            " 14  Gym             28562 non-null  int64  \n",
            " 15  Pool            28562 non-null  int64  \n",
            "dtypes: float64(4), int64(9), object(3)\n",
            "memory usage: 3.5+ MB\n"
          ]
        }
      ],
      "source": [
        "# General information about the data\n",
        "df.info()"
      ]
    },
    {
      "cell_type": "code",
      "execution_count": null,
      "metadata": {
        "colab": {
          "base_uri": "https://localhost:8080/"
        },
        "id": "37dSSbqwto2P",
        "outputId": "b290d89d-a832-43ba-dc5d-341d74a46d0f"
      },
      "outputs": [
        {
          "data": {
            "text/plain": [
              "28562"
            ]
          },
          "execution_count": 7,
          "metadata": {
            "tags": []
          },
          "output_type": "execute_result"
        }
      ],
      "source": [
        "# Length of the data\n",
        "len(df)"
      ]
    },
    {
      "cell_type": "code",
      "execution_count": null,
      "metadata": {
        "colab": {
          "base_uri": "https://localhost:8080/"
        },
        "id": "dhdP1Iabtyw2",
        "outputId": "d11ea3f0-2d67-4d42-ccd6-70801e99d293"
      },
      "outputs": [
        {
          "data": {
            "text/plain": [
              "Price             0\n",
              "Bed               0\n",
              "Bath              0\n",
              "Toilet            0\n",
              "Property Type     0\n",
              "Area              0\n",
              "Purchase Type     0\n",
              "Parking Space     0\n",
              "Security          0\n",
              "Electricity       0\n",
              "Furnished         0\n",
              "Security Doors    0\n",
              "CCTV              0\n",
              "BQ                0\n",
              "Gym               0\n",
              "Pool              0\n",
              "dtype: int64"
            ]
          },
          "execution_count": 7,
          "metadata": {
            "tags": []
          },
          "output_type": "execute_result"
        }
      ],
      "source": [
        "# Checking out for missing values\n",
        "df.isnull().sum()"
      ]
    },
    {
      "cell_type": "markdown",
      "metadata": {
        "id": "3b_AFD6DussT"
      },
      "source": [
        "There are no missing values in the data"
      ]
    },
    {
      "cell_type": "code",
      "execution_count": null,
      "metadata": {
        "colab": {
          "base_uri": "https://localhost:8080/"
        },
        "id": "usuLSbKxuUXt",
        "outputId": "20b8f942-b7f9-451b-e76e-9171281e78f8"
      },
      "outputs": [
        {
          "data": {
            "text/plain": [
              "(28562, 16)"
            ]
          },
          "execution_count": 8,
          "metadata": {
            "tags": []
          },
          "output_type": "execute_result"
        }
      ],
      "source": [
        "# Shape of the dataset\n",
        "df.shape"
      ]
    },
    {
      "cell_type": "markdown",
      "metadata": {
        "id": "A5uWagipu-Wf"
      },
      "source": [
        "There are 28,562 rows and 16 columns in this data"
      ]
    },
    {
      "cell_type": "code",
      "execution_count": null,
      "metadata": {
        "colab": {
          "base_uri": "https://localhost:8080/"
        },
        "id": "UCAsAgc04_aU",
        "outputId": "b251da30-2885-48d1-df31-e10371585829"
      },
      "outputs": [
        {
          "data": {
            "text/plain": [
              "Index(['Price', 'Bed', 'Bath', 'Toilet', 'Property Type', 'Area',\n",
              "       'Purchase Type', 'Parking Space', 'Security', 'Electricity',\n",
              "       'Furnished', 'Security Doors', 'CCTV', 'BQ', 'Gym', 'Pool'],\n",
              "      dtype='object')"
            ]
          },
          "execution_count": 9,
          "metadata": {
            "tags": []
          },
          "output_type": "execute_result"
        }
      ],
      "source": [
        "# Columns of the data\n",
        "df.columns"
      ]
    },
    {
      "cell_type": "code",
      "execution_count": null,
      "metadata": {
        "colab": {
          "base_uri": "https://localhost:8080/",
          "height": 277
        },
        "id": "fk3dr3Gmu8IE",
        "outputId": "902a6913-d3dd-49cd-ccb9-57b4cf1c73a5"
      },
      "outputs": [
        {
          "data": {
            "text/html": [
              "<div>\n",
              "<style scoped>\n",
              "    .dataframe tbody tr th:only-of-type {\n",
              "        vertical-align: middle;\n",
              "    }\n",
              "\n",
              "    .dataframe tbody tr th {\n",
              "        vertical-align: top;\n",
              "    }\n",
              "\n",
              "    .dataframe thead th {\n",
              "        text-align: right;\n",
              "    }\n",
              "</style>\n",
              "<table border=\"1\" class=\"dataframe\">\n",
              "  <thead>\n",
              "    <tr style=\"text-align: right;\">\n",
              "      <th></th>\n",
              "      <th>Price</th>\n",
              "      <th>Bed</th>\n",
              "      <th>Bath</th>\n",
              "      <th>Toilet</th>\n",
              "      <th>Parking Space</th>\n",
              "      <th>Security</th>\n",
              "      <th>Electricity</th>\n",
              "      <th>Furnished</th>\n",
              "      <th>Security Doors</th>\n",
              "      <th>CCTV</th>\n",
              "      <th>BQ</th>\n",
              "      <th>Gym</th>\n",
              "      <th>Pool</th>\n",
              "    </tr>\n",
              "  </thead>\n",
              "  <tbody>\n",
              "    <tr>\n",
              "      <th>count</th>\n",
              "      <td>2.856200e+04</td>\n",
              "      <td>28562.000000</td>\n",
              "      <td>28562.000000</td>\n",
              "      <td>28562.000000</td>\n",
              "      <td>28562.000000</td>\n",
              "      <td>28562.000000</td>\n",
              "      <td>28562.000000</td>\n",
              "      <td>28562.000000</td>\n",
              "      <td>28562.000000</td>\n",
              "      <td>28562.000000</td>\n",
              "      <td>28562.000000</td>\n",
              "      <td>28562.000000</td>\n",
              "      <td>28562.000000</td>\n",
              "    </tr>\n",
              "    <tr>\n",
              "      <th>mean</th>\n",
              "      <td>2.056231e+06</td>\n",
              "      <td>2.356558</td>\n",
              "      <td>2.271760</td>\n",
              "      <td>2.653386</td>\n",
              "      <td>0.190463</td>\n",
              "      <td>0.124011</td>\n",
              "      <td>0.035677</td>\n",
              "      <td>0.134619</td>\n",
              "      <td>0.007983</td>\n",
              "      <td>0.023598</td>\n",
              "      <td>0.070618</td>\n",
              "      <td>0.051047</td>\n",
              "      <td>0.074645</td>\n",
              "    </tr>\n",
              "    <tr>\n",
              "      <th>std</th>\n",
              "      <td>3.146423e+06</td>\n",
              "      <td>1.069596</td>\n",
              "      <td>1.191285</td>\n",
              "      <td>1.446700</td>\n",
              "      <td>0.392673</td>\n",
              "      <td>0.329600</td>\n",
              "      <td>0.185486</td>\n",
              "      <td>0.341323</td>\n",
              "      <td>0.088990</td>\n",
              "      <td>0.151795</td>\n",
              "      <td>0.256191</td>\n",
              "      <td>0.220097</td>\n",
              "      <td>0.262822</td>\n",
              "    </tr>\n",
              "    <tr>\n",
              "      <th>min</th>\n",
              "      <td>1.500000e+05</td>\n",
              "      <td>1.000000</td>\n",
              "      <td>0.000000</td>\n",
              "      <td>0.000000</td>\n",
              "      <td>0.000000</td>\n",
              "      <td>0.000000</td>\n",
              "      <td>0.000000</td>\n",
              "      <td>0.000000</td>\n",
              "      <td>0.000000</td>\n",
              "      <td>0.000000</td>\n",
              "      <td>0.000000</td>\n",
              "      <td>0.000000</td>\n",
              "      <td>0.000000</td>\n",
              "    </tr>\n",
              "    <tr>\n",
              "      <th>25%</th>\n",
              "      <td>5.000000e+05</td>\n",
              "      <td>1.000000</td>\n",
              "      <td>1.000000</td>\n",
              "      <td>1.000000</td>\n",
              "      <td>0.000000</td>\n",
              "      <td>0.000000</td>\n",
              "      <td>0.000000</td>\n",
              "      <td>0.000000</td>\n",
              "      <td>0.000000</td>\n",
              "      <td>0.000000</td>\n",
              "      <td>0.000000</td>\n",
              "      <td>0.000000</td>\n",
              "      <td>0.000000</td>\n",
              "    </tr>\n",
              "    <tr>\n",
              "      <th>50%</th>\n",
              "      <td>9.000000e+05</td>\n",
              "      <td>2.000000</td>\n",
              "      <td>2.000000</td>\n",
              "      <td>3.000000</td>\n",
              "      <td>0.000000</td>\n",
              "      <td>0.000000</td>\n",
              "      <td>0.000000</td>\n",
              "      <td>0.000000</td>\n",
              "      <td>0.000000</td>\n",
              "      <td>0.000000</td>\n",
              "      <td>0.000000</td>\n",
              "      <td>0.000000</td>\n",
              "      <td>0.000000</td>\n",
              "    </tr>\n",
              "    <tr>\n",
              "      <th>75%</th>\n",
              "      <td>1.800000e+06</td>\n",
              "      <td>3.000000</td>\n",
              "      <td>3.000000</td>\n",
              "      <td>4.000000</td>\n",
              "      <td>0.000000</td>\n",
              "      <td>0.000000</td>\n",
              "      <td>0.000000</td>\n",
              "      <td>0.000000</td>\n",
              "      <td>0.000000</td>\n",
              "      <td>0.000000</td>\n",
              "      <td>0.000000</td>\n",
              "      <td>0.000000</td>\n",
              "      <td>0.000000</td>\n",
              "    </tr>\n",
              "    <tr>\n",
              "      <th>max</th>\n",
              "      <td>2.400000e+07</td>\n",
              "      <td>10.000000</td>\n",
              "      <td>10.000000</td>\n",
              "      <td>10.000000</td>\n",
              "      <td>1.000000</td>\n",
              "      <td>1.000000</td>\n",
              "      <td>1.000000</td>\n",
              "      <td>1.000000</td>\n",
              "      <td>1.000000</td>\n",
              "      <td>1.000000</td>\n",
              "      <td>1.000000</td>\n",
              "      <td>1.000000</td>\n",
              "      <td>1.000000</td>\n",
              "    </tr>\n",
              "  </tbody>\n",
              "</table>\n",
              "</div>"
            ],
            "text/plain": [
              "              Price           Bed  ...           Gym          Pool\n",
              "count  2.856200e+04  28562.000000  ...  28562.000000  28562.000000\n",
              "mean   2.056231e+06      2.356558  ...      0.051047      0.074645\n",
              "std    3.146423e+06      1.069596  ...      0.220097      0.262822\n",
              "min    1.500000e+05      1.000000  ...      0.000000      0.000000\n",
              "25%    5.000000e+05      1.000000  ...      0.000000      0.000000\n",
              "50%    9.000000e+05      2.000000  ...      0.000000      0.000000\n",
              "75%    1.800000e+06      3.000000  ...      0.000000      0.000000\n",
              "max    2.400000e+07     10.000000  ...      1.000000      1.000000\n",
              "\n",
              "[8 rows x 13 columns]"
            ]
          },
          "execution_count": 10,
          "metadata": {
            "tags": []
          },
          "output_type": "execute_result"
        }
      ],
      "source": [
        "# Statistical information about the dataset\n",
        "df.describe()"
      ]
    },
    {
      "cell_type": "code",
      "execution_count": null,
      "metadata": {
        "colab": {
          "base_uri": "https://localhost:8080/",
          "height": 421
        },
        "id": "LgsrPNfHvWXy",
        "outputId": "544f6503-f861-4631-9ce8-d223144f3ad4"
      },
      "outputs": [
        {
          "data": {
            "text/html": [
              "<div>\n",
              "<style scoped>\n",
              "    .dataframe tbody tr th:only-of-type {\n",
              "        vertical-align: middle;\n",
              "    }\n",
              "\n",
              "    .dataframe tbody tr th {\n",
              "        vertical-align: top;\n",
              "    }\n",
              "\n",
              "    .dataframe thead th {\n",
              "        text-align: right;\n",
              "    }\n",
              "</style>\n",
              "<table border=\"1\" class=\"dataframe\">\n",
              "  <thead>\n",
              "    <tr style=\"text-align: right;\">\n",
              "      <th></th>\n",
              "      <th>Price</th>\n",
              "      <th>Bed</th>\n",
              "      <th>Bath</th>\n",
              "      <th>Toilet</th>\n",
              "      <th>Parking Space</th>\n",
              "      <th>Security</th>\n",
              "      <th>Electricity</th>\n",
              "      <th>Furnished</th>\n",
              "      <th>Security Doors</th>\n",
              "      <th>CCTV</th>\n",
              "      <th>BQ</th>\n",
              "      <th>Gym</th>\n",
              "      <th>Pool</th>\n",
              "    </tr>\n",
              "  </thead>\n",
              "  <tbody>\n",
              "    <tr>\n",
              "      <th>Price</th>\n",
              "      <td>1.000000</td>\n",
              "      <td>0.476508</td>\n",
              "      <td>0.433442</td>\n",
              "      <td>0.454968</td>\n",
              "      <td>0.024771</td>\n",
              "      <td>0.180596</td>\n",
              "      <td>0.061437</td>\n",
              "      <td>0.080752</td>\n",
              "      <td>0.089937</td>\n",
              "      <td>0.242703</td>\n",
              "      <td>0.314277</td>\n",
              "      <td>0.547596</td>\n",
              "      <td>0.618919</td>\n",
              "    </tr>\n",
              "    <tr>\n",
              "      <th>Bed</th>\n",
              "      <td>0.476508</td>\n",
              "      <td>1.000000</td>\n",
              "      <td>0.805128</td>\n",
              "      <td>0.773934</td>\n",
              "      <td>0.063133</td>\n",
              "      <td>0.100912</td>\n",
              "      <td>0.020413</td>\n",
              "      <td>0.053039</td>\n",
              "      <td>0.065736</td>\n",
              "      <td>0.130830</td>\n",
              "      <td>0.293347</td>\n",
              "      <td>0.180130</td>\n",
              "      <td>0.227158</td>\n",
              "    </tr>\n",
              "    <tr>\n",
              "      <th>Bath</th>\n",
              "      <td>0.433442</td>\n",
              "      <td>0.805128</td>\n",
              "      <td>1.000000</td>\n",
              "      <td>0.903002</td>\n",
              "      <td>0.034402</td>\n",
              "      <td>0.116852</td>\n",
              "      <td>0.017125</td>\n",
              "      <td>0.089216</td>\n",
              "      <td>0.075315</td>\n",
              "      <td>0.137245</td>\n",
              "      <td>0.265451</td>\n",
              "      <td>0.175836</td>\n",
              "      <td>0.221040</td>\n",
              "    </tr>\n",
              "    <tr>\n",
              "      <th>Toilet</th>\n",
              "      <td>0.454968</td>\n",
              "      <td>0.773934</td>\n",
              "      <td>0.903002</td>\n",
              "      <td>1.000000</td>\n",
              "      <td>0.040467</td>\n",
              "      <td>0.125614</td>\n",
              "      <td>0.011769</td>\n",
              "      <td>0.097760</td>\n",
              "      <td>0.078061</td>\n",
              "      <td>0.133548</td>\n",
              "      <td>0.256303</td>\n",
              "      <td>0.195438</td>\n",
              "      <td>0.241444</td>\n",
              "    </tr>\n",
              "    <tr>\n",
              "      <th>Parking Space</th>\n",
              "      <td>0.024771</td>\n",
              "      <td>0.063133</td>\n",
              "      <td>0.034402</td>\n",
              "      <td>0.040467</td>\n",
              "      <td>1.000000</td>\n",
              "      <td>0.091541</td>\n",
              "      <td>0.079278</td>\n",
              "      <td>0.014282</td>\n",
              "      <td>0.073719</td>\n",
              "      <td>0.020928</td>\n",
              "      <td>-0.016415</td>\n",
              "      <td>0.033343</td>\n",
              "      <td>0.040689</td>\n",
              "    </tr>\n",
              "    <tr>\n",
              "      <th>Security</th>\n",
              "      <td>0.180596</td>\n",
              "      <td>0.100912</td>\n",
              "      <td>0.116852</td>\n",
              "      <td>0.125614</td>\n",
              "      <td>0.091541</td>\n",
              "      <td>1.000000</td>\n",
              "      <td>0.239179</td>\n",
              "      <td>0.056076</td>\n",
              "      <td>0.238415</td>\n",
              "      <td>0.244526</td>\n",
              "      <td>0.095314</td>\n",
              "      <td>0.219212</td>\n",
              "      <td>0.246798</td>\n",
              "    </tr>\n",
              "    <tr>\n",
              "      <th>Electricity</th>\n",
              "      <td>0.061437</td>\n",
              "      <td>0.020413</td>\n",
              "      <td>0.017125</td>\n",
              "      <td>0.011769</td>\n",
              "      <td>0.079278</td>\n",
              "      <td>0.239179</td>\n",
              "      <td>1.000000</td>\n",
              "      <td>0.050781</td>\n",
              "      <td>0.016684</td>\n",
              "      <td>0.067093</td>\n",
              "      <td>0.026554</td>\n",
              "      <td>0.090895</td>\n",
              "      <td>0.101223</td>\n",
              "    </tr>\n",
              "    <tr>\n",
              "      <th>Furnished</th>\n",
              "      <td>0.080752</td>\n",
              "      <td>0.053039</td>\n",
              "      <td>0.089216</td>\n",
              "      <td>0.097760</td>\n",
              "      <td>0.014282</td>\n",
              "      <td>0.056076</td>\n",
              "      <td>0.050781</td>\n",
              "      <td>1.000000</td>\n",
              "      <td>0.023408</td>\n",
              "      <td>0.045457</td>\n",
              "      <td>0.028218</td>\n",
              "      <td>0.053935</td>\n",
              "      <td>0.051516</td>\n",
              "    </tr>\n",
              "    <tr>\n",
              "      <th>Security Doors</th>\n",
              "      <td>0.089937</td>\n",
              "      <td>0.065736</td>\n",
              "      <td>0.075315</td>\n",
              "      <td>0.078061</td>\n",
              "      <td>0.073719</td>\n",
              "      <td>0.238415</td>\n",
              "      <td>0.016684</td>\n",
              "      <td>0.023408</td>\n",
              "      <td>1.000000</td>\n",
              "      <td>0.149348</td>\n",
              "      <td>0.052061</td>\n",
              "      <td>0.065000</td>\n",
              "      <td>0.098774</td>\n",
              "    </tr>\n",
              "    <tr>\n",
              "      <th>CCTV</th>\n",
              "      <td>0.242703</td>\n",
              "      <td>0.130830</td>\n",
              "      <td>0.137245</td>\n",
              "      <td>0.133548</td>\n",
              "      <td>0.020928</td>\n",
              "      <td>0.244526</td>\n",
              "      <td>0.067093</td>\n",
              "      <td>0.045457</td>\n",
              "      <td>0.149348</td>\n",
              "      <td>1.000000</td>\n",
              "      <td>0.119208</td>\n",
              "      <td>0.258427</td>\n",
              "      <td>0.255993</td>\n",
              "    </tr>\n",
              "    <tr>\n",
              "      <th>BQ</th>\n",
              "      <td>0.314277</td>\n",
              "      <td>0.293347</td>\n",
              "      <td>0.265451</td>\n",
              "      <td>0.256303</td>\n",
              "      <td>-0.016415</td>\n",
              "      <td>0.095314</td>\n",
              "      <td>0.026554</td>\n",
              "      <td>0.028218</td>\n",
              "      <td>0.052061</td>\n",
              "      <td>0.119208</td>\n",
              "      <td>1.000000</td>\n",
              "      <td>0.214869</td>\n",
              "      <td>0.253469</td>\n",
              "    </tr>\n",
              "    <tr>\n",
              "      <th>Gym</th>\n",
              "      <td>0.547596</td>\n",
              "      <td>0.180130</td>\n",
              "      <td>0.175836</td>\n",
              "      <td>0.195438</td>\n",
              "      <td>0.033343</td>\n",
              "      <td>0.219212</td>\n",
              "      <td>0.090895</td>\n",
              "      <td>0.053935</td>\n",
              "      <td>0.065000</td>\n",
              "      <td>0.258427</td>\n",
              "      <td>0.214869</td>\n",
              "      <td>1.000000</td>\n",
              "      <td>0.750034</td>\n",
              "    </tr>\n",
              "    <tr>\n",
              "      <th>Pool</th>\n",
              "      <td>0.618919</td>\n",
              "      <td>0.227158</td>\n",
              "      <td>0.221040</td>\n",
              "      <td>0.241444</td>\n",
              "      <td>0.040689</td>\n",
              "      <td>0.246798</td>\n",
              "      <td>0.101223</td>\n",
              "      <td>0.051516</td>\n",
              "      <td>0.098774</td>\n",
              "      <td>0.255993</td>\n",
              "      <td>0.253469</td>\n",
              "      <td>0.750034</td>\n",
              "      <td>1.000000</td>\n",
              "    </tr>\n",
              "  </tbody>\n",
              "</table>\n",
              "</div>"
            ],
            "text/plain": [
              "                   Price       Bed      Bath  ...        BQ       Gym      Pool\n",
              "Price           1.000000  0.476508  0.433442  ...  0.314277  0.547596  0.618919\n",
              "Bed             0.476508  1.000000  0.805128  ...  0.293347  0.180130  0.227158\n",
              "Bath            0.433442  0.805128  1.000000  ...  0.265451  0.175836  0.221040\n",
              "Toilet          0.454968  0.773934  0.903002  ...  0.256303  0.195438  0.241444\n",
              "Parking Space   0.024771  0.063133  0.034402  ... -0.016415  0.033343  0.040689\n",
              "Security        0.180596  0.100912  0.116852  ...  0.095314  0.219212  0.246798\n",
              "Electricity     0.061437  0.020413  0.017125  ...  0.026554  0.090895  0.101223\n",
              "Furnished       0.080752  0.053039  0.089216  ...  0.028218  0.053935  0.051516\n",
              "Security Doors  0.089937  0.065736  0.075315  ...  0.052061  0.065000  0.098774\n",
              "CCTV            0.242703  0.130830  0.137245  ...  0.119208  0.258427  0.255993\n",
              "BQ              0.314277  0.293347  0.265451  ...  1.000000  0.214869  0.253469\n",
              "Gym             0.547596  0.180130  0.175836  ...  0.214869  1.000000  0.750034\n",
              "Pool            0.618919  0.227158  0.221040  ...  0.253469  0.750034  1.000000\n",
              "\n",
              "[13 rows x 13 columns]"
            ]
          },
          "execution_count": 11,
          "metadata": {
            "tags": []
          },
          "output_type": "execute_result"
        }
      ],
      "source": [
        "# Checking out for correlations in the dataset\n",
        "df.corr()"
      ]
    },
    {
      "cell_type": "code",
      "execution_count": null,
      "metadata": {
        "colab": {
          "base_uri": "https://localhost:8080/",
          "height": 596
        },
        "id": "FCnAAaS8vyVp",
        "outputId": "34af3456-acf9-42bc-8813-f7b8fdce0185"
      },
      "outputs": [
        {
          "data": {
            "image/png": "[encoded data removed]",
            "text/plain": [
              "<Figure size 1440x720 with 2 Axes>"
            ]
          },
          "metadata": {
            "needs_background": "light",
            "tags": []
          },
          "output_type": "display_data"
        }
      ],
      "source": [
        "# Let's plot an heatmaps that clearly shows the correlations in the dataset\n",
        "plt.figure(figsize=(20,10))\n",
        "corr = df.corr()\n",
        "sns.heatmap(corr,cmap=\"Blues\",annot=True);"
      ]
    },
    {
      "cell_type": "markdown",
      "metadata": {
        "id": "RS9WDQ_txguX"
      },
      "source": [
        "Highly correlated variables in the dataset are:\n",
        " \n",
        "Bathroom and Bedroom 0.81\n",
        " \n",
        "Toilet and Bedroom 0.77\n",
        " \n",
        "Bathroom and Toilet 0.9\n",
        " \n",
        "Swimming Pool and Gym 0.75\n",
        " \n",
        "Swimming Pool and Price 0.62\n",
        " \n",
        "Gym and Price 0.55\n",
        " \n",
        "The most correlating variable to our target variable which is price, is swimming pool with the correlation of 0.62"
      ]
    },
    {
      "cell_type": "code",
      "execution_count": null,
      "metadata": {
        "colab": {
          "base_uri": "https://localhost:8080/",
          "height": 622
        },
        "id": "udLxmNEEv9rP",
        "outputId": "c00709ff-a3b1-47fd-ea20-f8c852c71c50"
      },
      "outputs": [
        {
          "data": {
            "text/html": [
              "<div>\n",
              "<style scoped>\n",
              "    .dataframe tbody tr th:only-of-type {\n",
              "        vertical-align: middle;\n",
              "    }\n",
              "\n",
              "    .dataframe tbody tr th {\n",
              "        vertical-align: top;\n",
              "    }\n",
              "\n",
              "    .dataframe thead th {\n",
              "        text-align: right;\n",
              "    }\n",
              "</style>\n",
              "<table border=\"1\" class=\"dataframe\">\n",
              "  <thead>\n",
              "    <tr style=\"text-align: right;\">\n",
              "      <th></th>\n",
              "      <th>Area</th>\n",
              "      <th>Property Type</th>\n",
              "      <th>Price</th>\n",
              "    </tr>\n",
              "  </thead>\n",
              "  <tbody>\n",
              "    <tr>\n",
              "      <th>16259</th>\n",
              "      <td>ikoyi</td>\n",
              "      <td>Flat / apartment</td>\n",
              "      <td>24000000.0</td>\n",
              "    </tr>\n",
              "    <tr>\n",
              "      <th>16367</th>\n",
              "      <td>ikoyi</td>\n",
              "      <td>Flat / apartment</td>\n",
              "      <td>24000000.0</td>\n",
              "    </tr>\n",
              "    <tr>\n",
              "      <th>14035</th>\n",
              "      <td>ikoyi</td>\n",
              "      <td>Flat / apartment</td>\n",
              "      <td>24000000.0</td>\n",
              "    </tr>\n",
              "    <tr>\n",
              "      <th>15887</th>\n",
              "      <td>ikoyi</td>\n",
              "      <td>Flat / apartment</td>\n",
              "      <td>24000000.0</td>\n",
              "    </tr>\n",
              "    <tr>\n",
              "      <th>14139</th>\n",
              "      <td>ikoyi</td>\n",
              "      <td>Flat / apartment</td>\n",
              "      <td>23000000.0</td>\n",
              "    </tr>\n",
              "    <tr>\n",
              "      <th>13288</th>\n",
              "      <td>ikoyi</td>\n",
              "      <td>Flat / apartment</td>\n",
              "      <td>23000000.0</td>\n",
              "    </tr>\n",
              "    <tr>\n",
              "      <th>13503</th>\n",
              "      <td>ikoyi</td>\n",
              "      <td>Blocks of flats</td>\n",
              "      <td>23000000.0</td>\n",
              "    </tr>\n",
              "    <tr>\n",
              "      <th>13335</th>\n",
              "      <td>ikoyi</td>\n",
              "      <td>Flat / apartment</td>\n",
              "      <td>23000000.0</td>\n",
              "    </tr>\n",
              "    <tr>\n",
              "      <th>14117</th>\n",
              "      <td>ikoyi</td>\n",
              "      <td>Flat / apartment</td>\n",
              "      <td>23000000.0</td>\n",
              "    </tr>\n",
              "    <tr>\n",
              "      <th>16005</th>\n",
              "      <td>ikoyi</td>\n",
              "      <td>Flat / apartment</td>\n",
              "      <td>23000000.0</td>\n",
              "    </tr>\n",
              "    <tr>\n",
              "      <th>14515</th>\n",
              "      <td>ikoyi</td>\n",
              "      <td>Flat / apartment</td>\n",
              "      <td>23000000.0</td>\n",
              "    </tr>\n",
              "    <tr>\n",
              "      <th>15823</th>\n",
              "      <td>ikoyi</td>\n",
              "      <td>Flat / apartment</td>\n",
              "      <td>23000000.0</td>\n",
              "    </tr>\n",
              "    <tr>\n",
              "      <th>15019</th>\n",
              "      <td>ikoyi</td>\n",
              "      <td>Flat / apartment</td>\n",
              "      <td>23000000.0</td>\n",
              "    </tr>\n",
              "    <tr>\n",
              "      <th>16500</th>\n",
              "      <td>ikoyi</td>\n",
              "      <td>Flat / apartment</td>\n",
              "      <td>22800000.0</td>\n",
              "    </tr>\n",
              "    <tr>\n",
              "      <th>14144</th>\n",
              "      <td>ikoyi</td>\n",
              "      <td>Semi detached duplex</td>\n",
              "      <td>22000000.0</td>\n",
              "    </tr>\n",
              "    <tr>\n",
              "      <th>13811</th>\n",
              "      <td>ikoyi</td>\n",
              "      <td>Flat / apartment</td>\n",
              "      <td>22000000.0</td>\n",
              "    </tr>\n",
              "    <tr>\n",
              "      <th>15060</th>\n",
              "      <td>ikoyi</td>\n",
              "      <td>Flat / apartment</td>\n",
              "      <td>22000000.0</td>\n",
              "    </tr>\n",
              "    <tr>\n",
              "      <th>13747</th>\n",
              "      <td>ikoyi</td>\n",
              "      <td>Semi detached duplex</td>\n",
              "      <td>22000000.0</td>\n",
              "    </tr>\n",
              "    <tr>\n",
              "      <th>14427</th>\n",
              "      <td>ikoyi</td>\n",
              "      <td>Semi detached duplex</td>\n",
              "      <td>22000000.0</td>\n",
              "    </tr>\n",
              "    <tr>\n",
              "      <th>13485</th>\n",
              "      <td>ikoyi</td>\n",
              "      <td>Flat / apartment</td>\n",
              "      <td>22000000.0</td>\n",
              "    </tr>\n",
              "  </tbody>\n",
              "</table>\n",
              "</div>"
            ],
            "text/plain": [
              "        Area         Property Type       Price\n",
              "16259  ikoyi      Flat / apartment  24000000.0\n",
              "16367  ikoyi      Flat / apartment  24000000.0\n",
              "14035  ikoyi      Flat / apartment  24000000.0\n",
              "15887  ikoyi      Flat / apartment  24000000.0\n",
              "14139  ikoyi      Flat / apartment  23000000.0\n",
              "13288  ikoyi      Flat / apartment  23000000.0\n",
              "13503  ikoyi       Blocks of flats  23000000.0\n",
              "13335  ikoyi      Flat / apartment  23000000.0\n",
              "14117  ikoyi      Flat / apartment  23000000.0\n",
              "16005  ikoyi      Flat / apartment  23000000.0\n",
              "14515  ikoyi      Flat / apartment  23000000.0\n",
              "15823  ikoyi      Flat / apartment  23000000.0\n",
              "15019  ikoyi      Flat / apartment  23000000.0\n",
              "16500  ikoyi      Flat / apartment  22800000.0\n",
              "14144  ikoyi  Semi detached duplex  22000000.0\n",
              "13811  ikoyi      Flat / apartment  22000000.0\n",
              "15060  ikoyi      Flat / apartment  22000000.0\n",
              "13747  ikoyi  Semi detached duplex  22000000.0\n",
              "14427  ikoyi  Semi detached duplex  22000000.0\n",
              "13485  ikoyi      Flat / apartment  22000000.0"
            ]
          },
          "execution_count": 13,
          "metadata": {
            "tags": []
          },
          "output_type": "execute_result"
        }
      ],
      "source": [
        "# Drilling down into the dataset\n",
        "# Twenty most expensive houses\n",
        "most_exp = df[['Area','Property Type','Price']].sort_values(by=['Price'],ascending =False).head(20)\n",
        "most_exp"
      ]
    },
    {
      "cell_type": "markdown",
      "metadata": {
        "id": "5NoDo9o61DL1"
      },
      "source": [
        "  The top 20 most expensive houses are in Ikoyi and their rent prices ranges from 22million naira to 24million naira... Majority of these apartments are Flat"
      ]
    },
    {
      "cell_type": "code",
      "execution_count": null,
      "metadata": {
        "colab": {
          "base_uri": "https://localhost:8080/",
          "height": 622
        },
        "id": "n10YIjuz00RZ",
        "outputId": "152b0303-ed6b-4402-a548-32f782d7309b"
      },
      "outputs": [
        {
          "data": {
            "text/html": [
              "<div>\n",
              "<style scoped>\n",
              "    .dataframe tbody tr th:only-of-type {\n",
              "        vertical-align: middle;\n",
              "    }\n",
              "\n",
              "    .dataframe tbody tr th {\n",
              "        vertical-align: top;\n",
              "    }\n",
              "\n",
              "    .dataframe thead th {\n",
              "        text-align: right;\n",
              "    }\n",
              "</style>\n",
              "<table border=\"1\" class=\"dataframe\">\n",
              "  <thead>\n",
              "    <tr style=\"text-align: right;\">\n",
              "      <th></th>\n",
              "      <th>Area</th>\n",
              "      <th>Property Type</th>\n",
              "      <th>Price</th>\n",
              "    </tr>\n",
              "  </thead>\n",
              "  <tbody>\n",
              "    <tr>\n",
              "      <th>27553</th>\n",
              "      <td>yaba</td>\n",
              "      <td>Self contain</td>\n",
              "      <td>150000.0</td>\n",
              "    </tr>\n",
              "    <tr>\n",
              "      <th>27859</th>\n",
              "      <td>yaba</td>\n",
              "      <td>Mini flat</td>\n",
              "      <td>150000.0</td>\n",
              "    </tr>\n",
              "    <tr>\n",
              "      <th>13210</th>\n",
              "      <td>ikorodu</td>\n",
              "      <td>Flat / apartment</td>\n",
              "      <td>150000.0</td>\n",
              "    </tr>\n",
              "    <tr>\n",
              "      <th>12641</th>\n",
              "      <td>ikorodu</td>\n",
              "      <td>Self contain</td>\n",
              "      <td>150000.0</td>\n",
              "    </tr>\n",
              "    <tr>\n",
              "      <th>12778</th>\n",
              "      <td>ikorodu</td>\n",
              "      <td>Mini flat</td>\n",
              "      <td>150000.0</td>\n",
              "    </tr>\n",
              "    <tr>\n",
              "      <th>13211</th>\n",
              "      <td>ikorodu</td>\n",
              "      <td>Flat / apartment</td>\n",
              "      <td>150000.0</td>\n",
              "    </tr>\n",
              "    <tr>\n",
              "      <th>12781</th>\n",
              "      <td>ikorodu</td>\n",
              "      <td>Flat / apartment</td>\n",
              "      <td>150000.0</td>\n",
              "    </tr>\n",
              "    <tr>\n",
              "      <th>178</th>\n",
              "      <td>ajah</td>\n",
              "      <td>Self contain</td>\n",
              "      <td>150000.0</td>\n",
              "    </tr>\n",
              "    <tr>\n",
              "      <th>13213</th>\n",
              "      <td>ikorodu</td>\n",
              "      <td>Mini flat</td>\n",
              "      <td>150000.0</td>\n",
              "    </tr>\n",
              "    <tr>\n",
              "      <th>24595</th>\n",
              "      <td>yaba</td>\n",
              "      <td>Self contain</td>\n",
              "      <td>150000.0</td>\n",
              "    </tr>\n",
              "    <tr>\n",
              "      <th>27849</th>\n",
              "      <td>yaba</td>\n",
              "      <td>Self contain</td>\n",
              "      <td>150000.0</td>\n",
              "    </tr>\n",
              "    <tr>\n",
              "      <th>12642</th>\n",
              "      <td>ikorodu</td>\n",
              "      <td>Self contain</td>\n",
              "      <td>150000.0</td>\n",
              "    </tr>\n",
              "    <tr>\n",
              "      <th>20064</th>\n",
              "      <td>surulere</td>\n",
              "      <td>Self contain</td>\n",
              "      <td>150000.0</td>\n",
              "    </tr>\n",
              "    <tr>\n",
              "      <th>24094</th>\n",
              "      <td>yaba</td>\n",
              "      <td>Self contain</td>\n",
              "      <td>150000.0</td>\n",
              "    </tr>\n",
              "    <tr>\n",
              "      <th>12303</th>\n",
              "      <td>ikorodu</td>\n",
              "      <td>Mini flat</td>\n",
              "      <td>150000.0</td>\n",
              "    </tr>\n",
              "    <tr>\n",
              "      <th>12306</th>\n",
              "      <td>ikorodu</td>\n",
              "      <td>Mini flat</td>\n",
              "      <td>150000.0</td>\n",
              "    </tr>\n",
              "    <tr>\n",
              "      <th>12646</th>\n",
              "      <td>ikorodu</td>\n",
              "      <td>Mini flat</td>\n",
              "      <td>150000.0</td>\n",
              "    </tr>\n",
              "    <tr>\n",
              "      <th>192</th>\n",
              "      <td>ajah</td>\n",
              "      <td>Mini flat</td>\n",
              "      <td>150000.0</td>\n",
              "    </tr>\n",
              "    <tr>\n",
              "      <th>20879</th>\n",
              "      <td>surulere</td>\n",
              "      <td>Mini flat</td>\n",
              "      <td>150000.0</td>\n",
              "    </tr>\n",
              "    <tr>\n",
              "      <th>27848</th>\n",
              "      <td>yaba</td>\n",
              "      <td>Self contain</td>\n",
              "      <td>150000.0</td>\n",
              "    </tr>\n",
              "  </tbody>\n",
              "</table>\n",
              "</div>"
            ],
            "text/plain": [
              "           Area     Property Type     Price\n",
              "27553      yaba      Self contain  150000.0\n",
              "27859      yaba         Mini flat  150000.0\n",
              "13210   ikorodu  Flat / apartment  150000.0\n",
              "12641   ikorodu      Self contain  150000.0\n",
              "12778   ikorodu         Mini flat  150000.0\n",
              "13211   ikorodu  Flat / apartment  150000.0\n",
              "12781   ikorodu  Flat / apartment  150000.0\n",
              "178        ajah      Self contain  150000.0\n",
              "13213   ikorodu         Mini flat  150000.0\n",
              "24595      yaba      Self contain  150000.0\n",
              "27849      yaba      Self contain  150000.0\n",
              "12642   ikorodu      Self contain  150000.0\n",
              "20064  surulere      Self contain  150000.0\n",
              "24094      yaba      Self contain  150000.0\n",
              "12303   ikorodu         Mini flat  150000.0\n",
              "12306   ikorodu         Mini flat  150000.0\n",
              "12646   ikorodu         Mini flat  150000.0\n",
              "192        ajah         Mini flat  150000.0\n",
              "20879  surulere         Mini flat  150000.0\n",
              "27848      yaba      Self contain  150000.0"
            ]
          },
          "execution_count": 14,
          "metadata": {
            "tags": []
          },
          "output_type": "execute_result"
        }
      ],
      "source": [
        "# Twenty Cheapest houses\n",
        "cheap_houses = df[['Area','Property Type','Price']].sort_values(by=['Price']).head(20)\n",
        "cheap_houses"
      ]
    },
    {
      "cell_type": "markdown",
      "metadata": {
        "id": "eArm25P759hA"
      },
      "source": [
        "The prices of the cheapest houses in this dataset is 150,000 naira, majority of these houses are in Ikorodu\n",
        "\n",
        "These houses ranges from flat to self contain"
      ]
    },
    {
      "cell_type": "code",
      "execution_count": null,
      "metadata": {
        "colab": {
          "base_uri": "https://localhost:8080/"
        },
        "id": "wxWx9Fno1yVr",
        "outputId": "5cb24a83-5935-4e1d-a265-20454ed7ac87"
      },
      "outputs": [
        {
          "data": {
            "text/plain": [
              "2056230.983124431"
            ]
          },
          "execution_count": 15,
          "metadata": {
            "tags": []
          },
          "output_type": "execute_result"
        }
      ],
      "source": [
        "# The average price of rent in this data\n",
        "np.mean(df['Price'])"
      ]
    },
    {
      "cell_type": "markdown",
      "metadata": {
        "id": "q-xbC3Ze8ixI"
      },
      "source": [
        "The average price of rent is 2,056,231 naira\n"
      ]
    },
    {
      "cell_type": "code",
      "execution_count": null,
      "metadata": {
        "colab": {
          "base_uri": "https://localhost:8080/"
        },
        "id": "534QmzgfsQ53",
        "outputId": "c7b0807d-d0bd-4783-9aa7-590d2ed5b658"
      },
      "outputs": [
        {
          "data": {
            "text/plain": [
              "900000.0"
            ]
          },
          "execution_count": 16,
          "metadata": {
            "tags": []
          },
          "output_type": "execute_result"
        }
      ],
      "source": [
        "# The middle price in the data\n",
        "np.median(df['Price'])"
      ]
    },
    {
      "cell_type": "markdown",
      "metadata": {
        "id": "Mgc-GsSjsw6C"
      },
      "source": [
        "The middle price is 900,000naira"
      ]
    },
    {
      "cell_type": "code",
      "execution_count": null,
      "metadata": {
        "colab": {
          "base_uri": "https://localhost:8080/"
        },
        "id": "X3RFvclDtF6S",
        "outputId": "4190eacf-79dd-48c4-ede3-7bd6d9552ff3"
      },
      "outputs": [
        {
          "data": {
            "text/plain": [
              "2.3565576640291295"
            ]
          },
          "execution_count": 17,
          "metadata": {
            "tags": []
          },
          "output_type": "execute_result"
        }
      ],
      "source": [
        "# The average value of Bedroom in the data\n",
        "np.mean(df['Bed'])"
      ]
    },
    {
      "cell_type": "markdown",
      "metadata": {
        "id": "i9rZSWBrtcOv"
      },
      "source": [
        "The average bedroom in our data is Two bedrooms"
      ]
    },
    {
      "cell_type": "code",
      "execution_count": null,
      "metadata": {
        "colab": {
          "base_uri": "https://localhost:8080/"
        },
        "id": "PpbkYarNttCo",
        "outputId": "567f226a-325b-400b-ebf8-aceab60b865d"
      },
      "outputs": [
        {
          "data": {
            "text/plain": [
              "2.0"
            ]
          },
          "execution_count": 18,
          "metadata": {
            "tags": []
          },
          "output_type": "execute_result"
        }
      ],
      "source": [
        "# The middle value of the bedroom in bedroom\n",
        "np.median(df['Bed'])"
      ]
    },
    {
      "cell_type": "code",
      "execution_count": null,
      "metadata": {
        "colab": {
          "base_uri": "https://localhost:8080/"
        },
        "id": "rRyuNyQSSiUp",
        "outputId": "ae8c9682-bed0-4c45-b858-08ae44c2fb94"
      },
      "outputs": [
        {
          "data": {
            "text/plain": [
              "yaba        5656\n",
              "ajah        5018\n",
              "gbagada     3697\n",
              "surulere    3494\n",
              "ikeja       3480\n",
              "ikoyi       3351\n",
              "lekki       2798\n",
              "ikorodu     1068\n",
              "Name: Area, dtype: int64"
            ]
          },
          "execution_count": 19,
          "metadata": {
            "tags": []
          },
          "output_type": "execute_result"
        }
      ],
      "source": [
        "df['Area'].value_counts()"
      ]
    },
    {
      "cell_type": "markdown",
      "metadata": {
        "id": "QVzu81hAt877"
      },
      "source": [
        "The middle value of bedroom in the data is Two bedroom\n"
      ]
    },
    {
      "cell_type": "code",
      "execution_count": null,
      "metadata": {
        "colab": {
          "base_uri": "https://localhost:8080/",
          "height": 391
        },
        "id": "IteE6fMa6tVP",
        "outputId": "98549597-492a-4eed-a877-cad27d041305"
      },
      "outputs": [
        {
          "data": {
            "text/html": [
              "<div>\n",
              "<style scoped>\n",
              "    .dataframe tbody tr th:only-of-type {\n",
              "        vertical-align: middle;\n",
              "    }\n",
              "\n",
              "    .dataframe tbody tr th {\n",
              "        vertical-align: top;\n",
              "    }\n",
              "\n",
              "    .dataframe thead th {\n",
              "        text-align: right;\n",
              "    }\n",
              "</style>\n",
              "<table border=\"1\" class=\"dataframe\">\n",
              "  <thead>\n",
              "    <tr style=\"text-align: right;\">\n",
              "      <th></th>\n",
              "      <th>Price</th>\n",
              "      <th>Bed</th>\n",
              "      <th>Bath</th>\n",
              "      <th>Toilet</th>\n",
              "      <th>Property Type</th>\n",
              "      <th>Area</th>\n",
              "      <th>Purchase Type</th>\n",
              "      <th>Parking Space</th>\n",
              "      <th>Security</th>\n",
              "      <th>Electricity</th>\n",
              "      <th>Furnished</th>\n",
              "      <th>Security Doors</th>\n",
              "      <th>CCTV</th>\n",
              "      <th>BQ</th>\n",
              "      <th>Gym</th>\n",
              "      <th>Pool</th>\n",
              "    </tr>\n",
              "  </thead>\n",
              "  <tbody>\n",
              "    <tr>\n",
              "      <th>43</th>\n",
              "      <td>2100000.0</td>\n",
              "      <td>4.0</td>\n",
              "      <td>4.0</td>\n",
              "      <td>5.0</td>\n",
              "      <td>Terraced duplex</td>\n",
              "      <td>ajah</td>\n",
              "      <td>rent</td>\n",
              "      <td>0</td>\n",
              "      <td>0</td>\n",
              "      <td>0</td>\n",
              "      <td>0</td>\n",
              "      <td>0</td>\n",
              "      <td>0</td>\n",
              "      <td>0</td>\n",
              "      <td>0</td>\n",
              "      <td>0</td>\n",
              "    </tr>\n",
              "    <tr>\n",
              "      <th>135</th>\n",
              "      <td>2100000.0</td>\n",
              "      <td>4.0</td>\n",
              "      <td>4.0</td>\n",
              "      <td>5.0</td>\n",
              "      <td>Terraced duplex</td>\n",
              "      <td>ajah</td>\n",
              "      <td>rent</td>\n",
              "      <td>0</td>\n",
              "      <td>0</td>\n",
              "      <td>0</td>\n",
              "      <td>0</td>\n",
              "      <td>0</td>\n",
              "      <td>0</td>\n",
              "      <td>0</td>\n",
              "      <td>0</td>\n",
              "      <td>0</td>\n",
              "    </tr>\n",
              "    <tr>\n",
              "      <th>228</th>\n",
              "      <td>2100000.0</td>\n",
              "      <td>4.0</td>\n",
              "      <td>4.0</td>\n",
              "      <td>5.0</td>\n",
              "      <td>Terraced duplex</td>\n",
              "      <td>ajah</td>\n",
              "      <td>rent</td>\n",
              "      <td>0</td>\n",
              "      <td>0</td>\n",
              "      <td>0</td>\n",
              "      <td>0</td>\n",
              "      <td>0</td>\n",
              "      <td>0</td>\n",
              "      <td>1</td>\n",
              "      <td>0</td>\n",
              "      <td>0</td>\n",
              "    </tr>\n",
              "    <tr>\n",
              "      <th>250</th>\n",
              "      <td>2100000.0</td>\n",
              "      <td>4.0</td>\n",
              "      <td>4.0</td>\n",
              "      <td>5.0</td>\n",
              "      <td>Terraced duplex</td>\n",
              "      <td>ajah</td>\n",
              "      <td>rent</td>\n",
              "      <td>0</td>\n",
              "      <td>0</td>\n",
              "      <td>0</td>\n",
              "      <td>0</td>\n",
              "      <td>0</td>\n",
              "      <td>0</td>\n",
              "      <td>0</td>\n",
              "      <td>0</td>\n",
              "      <td>0</td>\n",
              "    </tr>\n",
              "    <tr>\n",
              "      <th>345</th>\n",
              "      <td>2100000.0</td>\n",
              "      <td>4.0</td>\n",
              "      <td>4.0</td>\n",
              "      <td>5.0</td>\n",
              "      <td>Blocks of flats</td>\n",
              "      <td>ajah</td>\n",
              "      <td>rent</td>\n",
              "      <td>0</td>\n",
              "      <td>0</td>\n",
              "      <td>0</td>\n",
              "      <td>0</td>\n",
              "      <td>0</td>\n",
              "      <td>0</td>\n",
              "      <td>0</td>\n",
              "      <td>0</td>\n",
              "      <td>0</td>\n",
              "    </tr>\n",
              "    <tr>\n",
              "      <th>...</th>\n",
              "      <td>...</td>\n",
              "      <td>...</td>\n",
              "      <td>...</td>\n",
              "      <td>...</td>\n",
              "      <td>...</td>\n",
              "      <td>...</td>\n",
              "      <td>...</td>\n",
              "      <td>...</td>\n",
              "      <td>...</td>\n",
              "      <td>...</td>\n",
              "      <td>...</td>\n",
              "      <td>...</td>\n",
              "      <td>...</td>\n",
              "      <td>...</td>\n",
              "      <td>...</td>\n",
              "      <td>...</td>\n",
              "    </tr>\n",
              "    <tr>\n",
              "      <th>19404</th>\n",
              "      <td>2500000.0</td>\n",
              "      <td>3.0</td>\n",
              "      <td>3.0</td>\n",
              "      <td>4.0</td>\n",
              "      <td>Flat / apartment</td>\n",
              "      <td>lekki</td>\n",
              "      <td>rent</td>\n",
              "      <td>1</td>\n",
              "      <td>0</td>\n",
              "      <td>0</td>\n",
              "      <td>0</td>\n",
              "      <td>0</td>\n",
              "      <td>0</td>\n",
              "      <td>0</td>\n",
              "      <td>0</td>\n",
              "      <td>0</td>\n",
              "    </tr>\n",
              "    <tr>\n",
              "      <th>19407</th>\n",
              "      <td>3700000.0</td>\n",
              "      <td>4.0</td>\n",
              "      <td>4.0</td>\n",
              "      <td>5.0</td>\n",
              "      <td>Detached duplex</td>\n",
              "      <td>lekki</td>\n",
              "      <td>rent</td>\n",
              "      <td>1</td>\n",
              "      <td>0</td>\n",
              "      <td>0</td>\n",
              "      <td>0</td>\n",
              "      <td>0</td>\n",
              "      <td>0</td>\n",
              "      <td>0</td>\n",
              "      <td>0</td>\n",
              "      <td>0</td>\n",
              "    </tr>\n",
              "    <tr>\n",
              "      <th>19409</th>\n",
              "      <td>3000000.0</td>\n",
              "      <td>3.0</td>\n",
              "      <td>3.0</td>\n",
              "      <td>3.0</td>\n",
              "      <td>Flat / apartment</td>\n",
              "      <td>lekki</td>\n",
              "      <td>rent</td>\n",
              "      <td>1</td>\n",
              "      <td>0</td>\n",
              "      <td>0</td>\n",
              "      <td>0</td>\n",
              "      <td>0</td>\n",
              "      <td>0</td>\n",
              "      <td>0</td>\n",
              "      <td>1</td>\n",
              "      <td>1</td>\n",
              "    </tr>\n",
              "    <tr>\n",
              "      <th>19410</th>\n",
              "      <td>3500000.0</td>\n",
              "      <td>3.0</td>\n",
              "      <td>3.0</td>\n",
              "      <td>4.0</td>\n",
              "      <td>Semi detached duplex</td>\n",
              "      <td>lekki</td>\n",
              "      <td>rent</td>\n",
              "      <td>1</td>\n",
              "      <td>0</td>\n",
              "      <td>0</td>\n",
              "      <td>0</td>\n",
              "      <td>0</td>\n",
              "      <td>0</td>\n",
              "      <td>0</td>\n",
              "      <td>0</td>\n",
              "      <td>0</td>\n",
              "    </tr>\n",
              "    <tr>\n",
              "      <th>19411</th>\n",
              "      <td>2500000.0</td>\n",
              "      <td>4.0</td>\n",
              "      <td>4.0</td>\n",
              "      <td>5.0</td>\n",
              "      <td>Detached duplex</td>\n",
              "      <td>lekki</td>\n",
              "      <td>rent</td>\n",
              "      <td>0</td>\n",
              "      <td>0</td>\n",
              "      <td>0</td>\n",
              "      <td>0</td>\n",
              "      <td>0</td>\n",
              "      <td>0</td>\n",
              "      <td>1</td>\n",
              "      <td>0</td>\n",
              "      <td>0</td>\n",
              "    </tr>\n",
              "  </tbody>\n",
              "</table>\n",
              "<p>6060 rows × 16 columns</p>\n",
              "</div>"
            ],
            "text/plain": [
              "           Price  Bed  Bath  Toilet  ... CCTV BQ Gym  Pool\n",
              "43     2100000.0  4.0   4.0     5.0  ...    0  0   0     0\n",
              "135    2100000.0  4.0   4.0     5.0  ...    0  0   0     0\n",
              "228    2100000.0  4.0   4.0     5.0  ...    0  1   0     0\n",
              "250    2100000.0  4.0   4.0     5.0  ...    0  0   0     0\n",
              "345    2100000.0  4.0   4.0     5.0  ...    0  0   0     0\n",
              "...          ...  ...   ...     ...  ...  ... ..  ..   ...\n",
              "19404  2500000.0  3.0   3.0     4.0  ...    0  0   0     0\n",
              "19407  3700000.0  4.0   4.0     5.0  ...    0  0   0     0\n",
              "19409  3000000.0  3.0   3.0     3.0  ...    0  0   1     1\n",
              "19410  3500000.0  3.0   3.0     4.0  ...    0  0   0     0\n",
              "19411  2500000.0  4.0   4.0     5.0  ...    0  1   0     0\n",
              "\n",
              "[6060 rows x 16 columns]"
            ]
          },
          "execution_count": 20,
          "metadata": {
            "tags": []
          },
          "output_type": "execute_result"
        }
      ],
      "source": [
        "# Houses above the average price\n",
        "above_avg_price =  df[df['Price'] > np.mean(df['Price'])]\n",
        "above_avg_price"
      ]
    },
    {
      "cell_type": "code",
      "execution_count": null,
      "metadata": {
        "colab": {
          "base_uri": "https://localhost:8080/"
        },
        "id": "Imzb9h2ML-Xw",
        "outputId": "3c975106-7dba-49a4-cdbc-d2d1a255b686"
      },
      "outputs": [
        {
          "data": {
            "text/plain": [
              "Price      Bed  Bath  Toilet  Property Type         Area   Purchase Type  Parking Space  Security  Electricity  Furnished  Security Doors  CCTV  BQ  Gym  Pool\n",
              "3500000.0  4.0  4.0   5.0     Semi detached duplex  lekki  rent           0              0         0            0          0               0     0   0    0       32\n",
              "2500000.0  3.0  3.0   4.0     Flat / apartment      ikeja  rent           0              0         0            0          0               0     0   0    0       32\n",
              "3000000.0  4.0  4.0   5.0     Terraced duplex       lekki  rent           0              0         0            0          0               0     0   0    0       31\n",
              "2500000.0  3.0  3.0   4.0     Flat / apartment      lekki  rent           0              0         0            0          0               0     0   0    0       22\n",
              "3500000.0  3.0  3.0   4.0     Flat / apartment      ikoyi  rent           0              0         0            0          0               0     0   0    0       21\n",
              "                                                                                                                                                                  ..\n",
              "7000000.0  3.0  3.0   4.0     Flat / apartment      ikoyi  rent           1              1         1            1          0               0     0   0    1        1\n",
              "                                                                                                                0          0               0     1   0    1        1\n",
              "                                                                                                                                                 0   0    1        1\n",
              "                                                                                                   0            0          1               1     1   1    1        1\n",
              "2070000.0  3.0  3.0   4.0     Flat / apartment      ikeja  rent           0              0         0            0          0               0     0   0    0        1\n",
              "Length: 4277, dtype: int64"
            ]
          },
          "execution_count": 21,
          "metadata": {
            "tags": []
          },
          "output_type": "execute_result"
        }
      ],
      "source": [
        "above_avg_price.value_counts()"
      ]
    },
    {
      "cell_type": "code",
      "execution_count": null,
      "metadata": {
        "colab": {
          "base_uri": "https://localhost:8080/"
        },
        "id": "LcpEdsDEPikY",
        "outputId": "bea15ff7-6337-4b71-bfc1-bb0db9ccfc67"
      },
      "outputs": [
        {
          "data": {
            "text/plain": [
              "43        ajah\n",
              "135       ajah\n",
              "228       ajah\n",
              "250       ajah\n",
              "345       ajah\n",
              "         ...  \n",
              "19404    lekki\n",
              "19407    lekki\n",
              "19409    lekki\n",
              "19410    lekki\n",
              "19411    lekki\n",
              "Name: Area, Length: 6060, dtype: object"
            ]
          },
          "execution_count": 22,
          "metadata": {
            "tags": []
          },
          "output_type": "execute_result"
        }
      ],
      "source": [
        "above_avg_price['Area']"
      ]
    },
    {
      "cell_type": "code",
      "execution_count": null,
      "metadata": {
        "colab": {
          "base_uri": "https://localhost:8080/"
        },
        "id": "hHsI8Hk3Pvuv",
        "outputId": "7a43e620-60e6-4259-876b-c8947ee0e42d"
      },
      "outputs": [
        {
          "data": {
            "text/plain": [
              "ikoyi      3184\n",
              "lekki      1725\n",
              "ikeja      1105\n",
              "gbagada      39\n",
              "ajah          7\n",
              "Name: Area, dtype: int64"
            ]
          },
          "execution_count": 23,
          "metadata": {
            "tags": []
          },
          "output_type": "execute_result"
        }
      ],
      "source": [
        "above_avg_price['Area'].value_counts()"
      ]
    },
    {
      "cell_type": "markdown",
      "metadata": {
        "id": "QYVzKg8vR0bc"
      },
      "source": [
        "If your budget is above the average price of 2.056million naira consider staying in these areas\n",
        " \n",
        "Majority of the houses in Ikoyi are above the average price"
      ]
    },
    {
      "cell_type": "code",
      "execution_count": null,
      "metadata": {
        "colab": {
          "base_uri": "https://localhost:8080/"
        },
        "id": "VCyjjiIfNo1G",
        "outputId": "fb0ebe8a-d7ba-4d2a-c7c7-ce69a633c882"
      },
      "outputs": [
        {
          "data": {
            "text/plain": [
              "Price             93\n",
              "Bed               10\n",
              "Bath              11\n",
              "Toilet            11\n",
              "Property Type     12\n",
              "Area               5\n",
              "Purchase Type      1\n",
              "Parking Space      2\n",
              "Security           2\n",
              "Electricity        2\n",
              "Furnished          2\n",
              "Security Doors     2\n",
              "CCTV               2\n",
              "BQ                 2\n",
              "Gym                2\n",
              "Pool               2\n",
              "dtype: int64"
            ]
          },
          "execution_count": 24,
          "metadata": {
            "tags": []
          },
          "output_type": "execute_result"
        }
      ],
      "source": [
        "above_avg_price.nunique()"
      ]
    },
    {
      "cell_type": "code",
      "execution_count": null,
      "metadata": {
        "colab": {
          "base_uri": "https://localhost:8080/",
          "height": 391
        },
        "id": "Fjs-jDm_FZ3t",
        "outputId": "f9285ee2-4cab-404c-cc39-e9dcf5d4d8ae"
      },
      "outputs": [
        {
          "data": {
            "text/html": [
              "<div>\n",
              "<style scoped>\n",
              "    .dataframe tbody tr th:only-of-type {\n",
              "        vertical-align: middle;\n",
              "    }\n",
              "\n",
              "    .dataframe tbody tr th {\n",
              "        vertical-align: top;\n",
              "    }\n",
              "\n",
              "    .dataframe thead th {\n",
              "        text-align: right;\n",
              "    }\n",
              "</style>\n",
              "<table border=\"1\" class=\"dataframe\">\n",
              "  <thead>\n",
              "    <tr style=\"text-align: right;\">\n",
              "      <th></th>\n",
              "      <th>Price</th>\n",
              "      <th>Bed</th>\n",
              "      <th>Bath</th>\n",
              "      <th>Toilet</th>\n",
              "      <th>Property Type</th>\n",
              "      <th>Area</th>\n",
              "      <th>Purchase Type</th>\n",
              "      <th>Parking Space</th>\n",
              "      <th>Security</th>\n",
              "      <th>Electricity</th>\n",
              "      <th>Furnished</th>\n",
              "      <th>Security Doors</th>\n",
              "      <th>CCTV</th>\n",
              "      <th>BQ</th>\n",
              "      <th>Gym</th>\n",
              "      <th>Pool</th>\n",
              "    </tr>\n",
              "  </thead>\n",
              "  <tbody>\n",
              "    <tr>\n",
              "      <th>0</th>\n",
              "      <td>800000.0</td>\n",
              "      <td>2.0</td>\n",
              "      <td>3.0</td>\n",
              "      <td>3.0</td>\n",
              "      <td>Flat / apartment</td>\n",
              "      <td>ajah</td>\n",
              "      <td>rent</td>\n",
              "      <td>0</td>\n",
              "      <td>0</td>\n",
              "      <td>0</td>\n",
              "      <td>0</td>\n",
              "      <td>0</td>\n",
              "      <td>0</td>\n",
              "      <td>0</td>\n",
              "      <td>0</td>\n",
              "      <td>0</td>\n",
              "    </tr>\n",
              "    <tr>\n",
              "      <th>1</th>\n",
              "      <td>700000.0</td>\n",
              "      <td>1.0</td>\n",
              "      <td>2.0</td>\n",
              "      <td>2.0</td>\n",
              "      <td>Mini flat</td>\n",
              "      <td>ajah</td>\n",
              "      <td>rent</td>\n",
              "      <td>0</td>\n",
              "      <td>0</td>\n",
              "      <td>0</td>\n",
              "      <td>0</td>\n",
              "      <td>0</td>\n",
              "      <td>0</td>\n",
              "      <td>0</td>\n",
              "      <td>0</td>\n",
              "      <td>0</td>\n",
              "    </tr>\n",
              "    <tr>\n",
              "      <th>2</th>\n",
              "      <td>900000.0</td>\n",
              "      <td>1.0</td>\n",
              "      <td>1.0</td>\n",
              "      <td>2.0</td>\n",
              "      <td>Mini flat</td>\n",
              "      <td>ajah</td>\n",
              "      <td>rent</td>\n",
              "      <td>0</td>\n",
              "      <td>0</td>\n",
              "      <td>0</td>\n",
              "      <td>0</td>\n",
              "      <td>0</td>\n",
              "      <td>0</td>\n",
              "      <td>0</td>\n",
              "      <td>0</td>\n",
              "      <td>0</td>\n",
              "    </tr>\n",
              "    <tr>\n",
              "      <th>3</th>\n",
              "      <td>1100000.0</td>\n",
              "      <td>3.0</td>\n",
              "      <td>3.0</td>\n",
              "      <td>4.0</td>\n",
              "      <td>Flat / apartment</td>\n",
              "      <td>ajah</td>\n",
              "      <td>rent</td>\n",
              "      <td>0</td>\n",
              "      <td>0</td>\n",
              "      <td>0</td>\n",
              "      <td>0</td>\n",
              "      <td>0</td>\n",
              "      <td>0</td>\n",
              "      <td>0</td>\n",
              "      <td>0</td>\n",
              "      <td>0</td>\n",
              "    </tr>\n",
              "    <tr>\n",
              "      <th>4</th>\n",
              "      <td>1800000.0</td>\n",
              "      <td>4.0</td>\n",
              "      <td>4.0</td>\n",
              "      <td>4.0</td>\n",
              "      <td>Detached bungalow</td>\n",
              "      <td>ajah</td>\n",
              "      <td>rent</td>\n",
              "      <td>1</td>\n",
              "      <td>0</td>\n",
              "      <td>0</td>\n",
              "      <td>1</td>\n",
              "      <td>0</td>\n",
              "      <td>0</td>\n",
              "      <td>1</td>\n",
              "      <td>0</td>\n",
              "      <td>0</td>\n",
              "    </tr>\n",
              "    <tr>\n",
              "      <th>...</th>\n",
              "      <td>...</td>\n",
              "      <td>...</td>\n",
              "      <td>...</td>\n",
              "      <td>...</td>\n",
              "      <td>...</td>\n",
              "      <td>...</td>\n",
              "      <td>...</td>\n",
              "      <td>...</td>\n",
              "      <td>...</td>\n",
              "      <td>...</td>\n",
              "      <td>...</td>\n",
              "      <td>...</td>\n",
              "      <td>...</td>\n",
              "      <td>...</td>\n",
              "      <td>...</td>\n",
              "      <td>...</td>\n",
              "    </tr>\n",
              "    <tr>\n",
              "      <th>28557</th>\n",
              "      <td>600000.0</td>\n",
              "      <td>2.0</td>\n",
              "      <td>2.0</td>\n",
              "      <td>2.0</td>\n",
              "      <td>Flat / apartment</td>\n",
              "      <td>yaba</td>\n",
              "      <td>rent</td>\n",
              "      <td>0</td>\n",
              "      <td>0</td>\n",
              "      <td>0</td>\n",
              "      <td>0</td>\n",
              "      <td>0</td>\n",
              "      <td>0</td>\n",
              "      <td>0</td>\n",
              "      <td>0</td>\n",
              "      <td>0</td>\n",
              "    </tr>\n",
              "    <tr>\n",
              "      <th>28558</th>\n",
              "      <td>600000.0</td>\n",
              "      <td>1.0</td>\n",
              "      <td>2.0</td>\n",
              "      <td>1.0</td>\n",
              "      <td>Mini flat</td>\n",
              "      <td>yaba</td>\n",
              "      <td>rent</td>\n",
              "      <td>0</td>\n",
              "      <td>0</td>\n",
              "      <td>0</td>\n",
              "      <td>0</td>\n",
              "      <td>0</td>\n",
              "      <td>0</td>\n",
              "      <td>0</td>\n",
              "      <td>0</td>\n",
              "      <td>0</td>\n",
              "    </tr>\n",
              "    <tr>\n",
              "      <th>28559</th>\n",
              "      <td>800000.0</td>\n",
              "      <td>3.0</td>\n",
              "      <td>3.0</td>\n",
              "      <td>4.0</td>\n",
              "      <td>Flat / apartment</td>\n",
              "      <td>yaba</td>\n",
              "      <td>rent</td>\n",
              "      <td>0</td>\n",
              "      <td>0</td>\n",
              "      <td>0</td>\n",
              "      <td>0</td>\n",
              "      <td>0</td>\n",
              "      <td>0</td>\n",
              "      <td>0</td>\n",
              "      <td>0</td>\n",
              "      <td>0</td>\n",
              "    </tr>\n",
              "    <tr>\n",
              "      <th>28560</th>\n",
              "      <td>600000.0</td>\n",
              "      <td>2.0</td>\n",
              "      <td>2.0</td>\n",
              "      <td>2.0</td>\n",
              "      <td>Flat / apartment</td>\n",
              "      <td>yaba</td>\n",
              "      <td>rent</td>\n",
              "      <td>0</td>\n",
              "      <td>0</td>\n",
              "      <td>0</td>\n",
              "      <td>0</td>\n",
              "      <td>0</td>\n",
              "      <td>0</td>\n",
              "      <td>0</td>\n",
              "      <td>0</td>\n",
              "      <td>0</td>\n",
              "    </tr>\n",
              "    <tr>\n",
              "      <th>28561</th>\n",
              "      <td>1800000.0</td>\n",
              "      <td>2.0</td>\n",
              "      <td>3.0</td>\n",
              "      <td>3.0</td>\n",
              "      <td>Flat / apartment</td>\n",
              "      <td>yaba</td>\n",
              "      <td>rent</td>\n",
              "      <td>0</td>\n",
              "      <td>1</td>\n",
              "      <td>0</td>\n",
              "      <td>0</td>\n",
              "      <td>0</td>\n",
              "      <td>0</td>\n",
              "      <td>0</td>\n",
              "      <td>0</td>\n",
              "      <td>1</td>\n",
              "    </tr>\n",
              "  </tbody>\n",
              "</table>\n",
              "<p>22502 rows × 16 columns</p>\n",
              "</div>"
            ],
            "text/plain": [
              "           Price  Bed  Bath  Toilet  ... CCTV BQ Gym  Pool\n",
              "0       800000.0  2.0   3.0     3.0  ...    0  0   0     0\n",
              "1       700000.0  1.0   2.0     2.0  ...    0  0   0     0\n",
              "2       900000.0  1.0   1.0     2.0  ...    0  0   0     0\n",
              "3      1100000.0  3.0   3.0     4.0  ...    0  0   0     0\n",
              "4      1800000.0  4.0   4.0     4.0  ...    0  1   0     0\n",
              "...          ...  ...   ...     ...  ...  ... ..  ..   ...\n",
              "28557   600000.0  2.0   2.0     2.0  ...    0  0   0     0\n",
              "28558   600000.0  1.0   2.0     1.0  ...    0  0   0     0\n",
              "28559   800000.0  3.0   3.0     4.0  ...    0  0   0     0\n",
              "28560   600000.0  2.0   2.0     2.0  ...    0  0   0     0\n",
              "28561  1800000.0  2.0   3.0     3.0  ...    0  0   0     1\n",
              "\n",
              "[22502 rows x 16 columns]"
            ]
          },
          "execution_count": 25,
          "metadata": {
            "tags": []
          },
          "output_type": "execute_result"
        }
      ],
      "source": [
        "# Houses below the average price\n",
        "below_avg_price =  df[df['Price'] < np.mean(df['Price'])]\n",
        "below_avg_price"
      ]
    },
    {
      "cell_type": "code",
      "execution_count": null,
      "metadata": {
        "colab": {
          "base_uri": "https://localhost:8080/"
        },
        "id": "t-TwnjRbM2nG",
        "outputId": "cb476ab2-19b1-4093-9ba0-3acceebafa9b"
      },
      "outputs": [
        {
          "data": {
            "text/plain": [
              "Price      Bed  Bath  Toilet  Property Type  Area      Purchase Type  Parking Space  Security  Electricity  Furnished  Security Doors  CCTV  BQ  Gym  Pool\n",
              "400000.0   1.0  1.0   1.0     Mini flat      yaba      rent           0              0         0            0          0               0     0   0    0       169\n",
              "350000.0   1.0  1.0   1.0     Mini flat      yaba      rent           0              0         0            0          0               0     0   0    0       137\n",
              "500000.0   1.0  1.0   1.0     Mini flat      yaba      rent           0              0         0            0          0               0     0   0    0       125\n",
              "300000.0   1.0  1.0   1.0     Self contain   yaba      rent           0              0         0            0          0               0     0   0    0       121\n",
              "400000.0   1.0  1.0   1.0     Mini flat      surulere  rent           0              0         0            0          0               0     0   0    0       114\n",
              "                                                                                                                                                             ... \n",
              "1000000.0  2.0  2.0   3.0     Mini flat      ajah      rent           0              0         0            1          0               0     0   0    0         1\n",
              "                                                                                     1         0            1          0               0     0   0    0         1\n",
              "                                             yaba      rent           0              0         0            0          0               0     0   0    0         1\n",
              "                              Self contain   surulere  rent           0              0         0            0          0               0     0   0    0         1\n",
              "150000.0   1.0  0.0   0.0     Mini flat      ajah      rent           0              0         0            0          0               0     0   0    0         1\n",
              "Length: 7881, dtype: int64"
            ]
          },
          "execution_count": 26,
          "metadata": {
            "tags": []
          },
          "output_type": "execute_result"
        }
      ],
      "source": [
        "below_avg_price.value_counts()"
      ]
    },
    {
      "cell_type": "code",
      "execution_count": null,
      "metadata": {
        "colab": {
          "base_uri": "https://localhost:8080/"
        },
        "id": "S8oIjEuQQMpB",
        "outputId": "cb14c711-2af4-4da6-c65a-aadd43a584bc"
      },
      "outputs": [
        {
          "data": {
            "text/plain": [
              "0        ajah\n",
              "1        ajah\n",
              "2        ajah\n",
              "3        ajah\n",
              "4        ajah\n",
              "         ... \n",
              "28557    yaba\n",
              "28558    yaba\n",
              "28559    yaba\n",
              "28560    yaba\n",
              "28561    yaba\n",
              "Name: Area, Length: 22502, dtype: object"
            ]
          },
          "execution_count": 27,
          "metadata": {
            "tags": []
          },
          "output_type": "execute_result"
        }
      ],
      "source": [
        "below_avg_price['Area']"
      ]
    },
    {
      "cell_type": "code",
      "execution_count": null,
      "metadata": {
        "colab": {
          "base_uri": "https://localhost:8080/"
        },
        "id": "N8nY3g9eQVug",
        "outputId": "5f92ee94-5b49-4743-dc7e-ae5f660c8b70"
      },
      "outputs": [
        {
          "data": {
            "text/plain": [
              "yaba        5656\n",
              "ajah        5011\n",
              "gbagada     3658\n",
              "surulere    3494\n",
              "ikeja       2375\n",
              "lekki       1073\n",
              "ikorodu     1068\n",
              "ikoyi        167\n",
              "Name: Area, dtype: int64"
            ]
          },
          "execution_count": 28,
          "metadata": {
            "tags": []
          },
          "output_type": "execute_result"
        }
      ],
      "source": [
        "below_avg_price['Area'].value_counts()"
      ]
    },
    {
      "cell_type": "markdown",
      "metadata": {
        "id": "jO94aVGfQn6w"
      },
      "source": [
        "If your budget is below the average price of 2.056million naira consider staying in these areas\n",
        " \n",
        "All the houses available for rent in Ikorodu, and Yaba are below the average price\n",
        " \n",
        "Majority of the houses available for rent are below the average price"
      ]
    },
    {
      "cell_type": "code",
      "execution_count": null,
      "metadata": {
        "colab": {
          "base_uri": "https://localhost:8080/"
        },
        "id": "_5UeBe5IOEji",
        "outputId": "1e44be49-c3fb-4e5d-b399-a9b18662b6a8"
      },
      "outputs": [
        {
          "data": {
            "text/plain": [
              "Price             116\n",
              "Bed                 7\n",
              "Bath                9\n",
              "Toilet             11\n",
              "Property Type      12\n",
              "Area                8\n",
              "Purchase Type       1\n",
              "Parking Space       2\n",
              "Security            2\n",
              "Electricity         2\n",
              "Furnished           2\n",
              "Security Doors      2\n",
              "CCTV                2\n",
              "BQ                  2\n",
              "Gym                 2\n",
              "Pool                2\n",
              "dtype: int64"
            ]
          },
          "execution_count": 29,
          "metadata": {
            "tags": []
          },
          "output_type": "execute_result"
        }
      ],
      "source": [
        "below_avg_price.nunique()"
      ]
    },
    {
      "cell_type": "code",
      "execution_count": null,
      "metadata": {
        "colab": {
          "base_uri": "https://localhost:8080/"
        },
        "id": "H1kXEeavCvdz",
        "outputId": "6bdf75a3-211b-436a-c71e-bfd1013681d6"
      },
      "outputs": [
        {
          "data": {
            "text/plain": [
              "True     22502\n",
              "False     6060\n",
              "Name: Price, dtype: int64"
            ]
          },
          "execution_count": 30,
          "metadata": {
            "tags": []
          },
          "output_type": "execute_result"
        }
      ],
      "source": [
        "value_count_price = df['Price'] < np.mean(df['Price'])\n",
        "value_count_price.value_counts()"
      ]
    },
    {
      "cell_type": "code",
      "execution_count": null,
      "metadata": {
        "colab": {
          "base_uri": "https://localhost:8080/"
        },
        "id": "MDrKM9Vj9gKL",
        "outputId": "c3141d2e-5c69-44b7-89a4-eeb059e3d393"
      },
      "outputs": [
        {
          "data": {
            "text/plain": [
              "3.0     10365\n",
              "1.0      7685\n",
              "2.0      7182\n",
              "4.0      2652\n",
              "5.0       602\n",
              "6.0        41\n",
              "10.0       15\n",
              "7.0        12\n",
              "8.0         6\n",
              "9.0         2\n",
              "Name: Bed, dtype: int64"
            ]
          },
          "execution_count": 31,
          "metadata": {
            "tags": []
          },
          "output_type": "execute_result"
        }
      ],
      "source": [
        "# Types of bedrooms in the data\n",
        "df['Bed'].value_counts()"
      ]
    },
    {
      "cell_type": "code",
      "execution_count": null,
      "metadata": {
        "colab": {
          "base_uri": "https://localhost:8080/"
        },
        "id": "SJS8kCls5cZI",
        "outputId": "195c12f0-93bf-4589-9d79-fb624aca7bc4"
      },
      "outputs": [
        {
          "data": {
            "text/plain": [
              "1000000.0     1801\n",
              "800000.0      1475\n",
              "500000.0      1442\n",
              "1500000.0     1441\n",
              "1200000.0     1418\n",
              "              ... \n",
              "720000.0         1\n",
              "15000009.0       1\n",
              "1500090.0        1\n",
              "750009.0         1\n",
              "4000889.0        1\n",
              "Name: Price, Length: 209, dtype: int64"
            ]
          },
          "execution_count": 32,
          "metadata": {
            "tags": []
          },
          "output_type": "execute_result"
        }
      ],
      "source": [
        "df['Price'].value_counts()"
      ]
    },
    {
      "cell_type": "code",
      "execution_count": null,
      "metadata": {
        "colab": {
          "base_uri": "https://localhost:8080/"
        },
        "id": "u_CdAreq7f2u",
        "outputId": "f98dff38-4563-4da4-ac67-2e8039cf8e28"
      },
      "outputs": [
        {
          "data": {
            "text/plain": [
              "Flat / apartment          15150\n",
              "Mini flat                  6126\n",
              "Self contain               2181\n",
              "Blocks of flats            1719\n",
              "Terraced duplex            1242\n",
              "Semi detached duplex        838\n",
              "Detached duplex             791\n",
              "Penthouse flat              248\n",
              "Detached bungalow           123\n",
              "Massionette house            86\n",
              "Semi detached bungalow       45\n",
              "Terraced bungalow            13\n",
              "Name: Property Type, dtype: int64"
            ]
          },
          "execution_count": 33,
          "metadata": {
            "tags": []
          },
          "output_type": "execute_result"
        }
      ],
      "source": [
        "# Types of properties in the data\n",
        "df['Property Type'].value_counts()"
      ]
    },
    {
      "cell_type": "code",
      "execution_count": null,
      "metadata": {
        "colab": {
          "base_uri": "https://localhost:8080/"
        },
        "id": "T0I4sFwd7yqK",
        "outputId": "a25ecede-f777-4515-e8fb-ff867a8290e0"
      },
      "outputs": [
        {
          "data": {
            "text/plain": [
              "yaba        5656\n",
              "ajah        5018\n",
              "gbagada     3697\n",
              "surulere    3494\n",
              "ikeja       3480\n",
              "ikoyi       3351\n",
              "lekki       2798\n",
              "ikorodu     1068\n",
              "Name: Area, dtype: int64"
            ]
          },
          "execution_count": 34,
          "metadata": {
            "tags": []
          },
          "output_type": "execute_result"
        }
      ],
      "source": [
        "# number of houses for rent by Area\n",
        "df['Area'].value_counts()"
      ]
    },
    {
      "cell_type": "code",
      "execution_count": null,
      "metadata": {
        "colab": {
          "base_uri": "https://localhost:8080/",
          "height": 263
        },
        "id": "3PzbAzu-yu0o",
        "outputId": "f6a5428d-6fbf-4847-da93-db25a2b43f09"
      },
      "outputs": [
        {
          "data": {
            "image/png": "[encoded data removed]",
            "text/plain": [
              "<Figure size 432x288 with 1 Axes>"
            ]
          },
          "metadata": {
            "tags": []
          },
          "output_type": "display_data"
        }
      ],
      "source": [
        "area_pie = df['Area'].value_counts() \n",
        "area_pie.plot.pie(title = 'Area Counts')\n",
        "plt.show()"
      ]
    },
    {
      "cell_type": "markdown",
      "metadata": {
        "id": "FGTy9PhqEMKi"
      },
      "source": [
        "#### Data Visualization"
      ]
    },
    {
      "cell_type": "code",
      "execution_count": null,
      "metadata": {
        "colab": {
          "base_uri": "https://localhost:8080/",
          "height": 278
        },
        "id": "jYgcC-gED7yd",
        "outputId": "29d61aa9-e3ca-42cb-d92d-ed639dc4de8a"
      },
      "outputs": [
        {
          "data": {
            "image/png": "[encoded data removed]",
            "text/plain": [
              "<Figure size 432x288 with 1 Axes>"
            ]
          },
          "metadata": {
            "needs_background": "light",
            "tags": []
          },
          "output_type": "display_data"
        }
      ],
      "source": [
        "# Boxplot, in plotting boxplot we wil check for outliers in the data\n",
        "sns.boxplot(x='Price', y='Property Type', data=df);"
      ]
    },
    {
      "cell_type": "code",
      "execution_count": null,
      "metadata": {
        "colab": {
          "base_uri": "https://localhost:8080/",
          "height": 278
        },
        "id": "udMrkuluhX_T",
        "outputId": "bdad24d6-36ed-4280-ed84-1d933391188a"
      },
      "outputs": [
        {
          "data": {
            "image/png": "[encoded data removed]",
            "text/plain": [
              "<Figure size 432x288 with 1 Axes>"
            ]
          },
          "metadata": {
            "needs_background": "light",
            "tags": []
          },
          "output_type": "display_data"
        }
      ],
      "source": [
        "sns.boxplot(x='Price', y='Bed', data=df);"
      ]
    },
    {
      "cell_type": "markdown",
      "metadata": {
        "id": "M43V-rhnhqVw"
      },
      "source": [
        "There are outliers in the dataset... Let's remove the outliers in the dataset\n"
      ]
    },
    {
      "cell_type": "code",
      "execution_count": null,
      "metadata": {
        "colab": {
          "base_uri": "https://localhost:8080/"
        },
        "id": "6nzjCsARhmK4",
        "outputId": "14fa3c31-e910-426e-abd6-2f3279533c3c"
      },
      "outputs": [
        {
          "name": "stdout",
          "output_type": "stream",
          "text": [
            "Price             1300000.0\n",
            "Bed                     2.0\n",
            "Bath                    2.0\n",
            "Toilet                  3.0\n",
            "Parking Space           0.0\n",
            "Security                0.0\n",
            "Electricity             0.0\n",
            "Furnished               0.0\n",
            "Security Doors          0.0\n",
            "CCTV                    0.0\n",
            "BQ                      0.0\n",
            "Gym                     0.0\n",
            "Pool                    0.0\n",
            "dtype: float64\n"
          ]
        }
      ],
      "source": [
        "# Dealing with outliers using IQR\n",
        "Q1 = df.quantile(0.25)\n",
        "Q3 = df.quantile(0.75)\n",
        "IQR = Q3 - Q1\n",
        "print(IQR)"
      ]
    },
    {
      "cell_type": "code",
      "execution_count": null,
      "metadata": {
        "colab": {
          "base_uri": "https://localhost:8080/",
          "height": 278
        },
        "id": "u0w66JRhjN3e",
        "outputId": "d2bd2a9f-e321-4fc3-d84c-d01c6d2e53d0"
      },
      "outputs": [
        {
          "data": {
            "image/png": "[encoded data removed]",
            "text/plain": [
              "<Figure size 432x288 with 1 Axes>"
            ]
          },
          "metadata": {
            "needs_background": "light",
            "tags": []
          },
          "output_type": "display_data"
        }
      ],
      "source": [
        "# Plotting scatterplot to show the correlations between the individual variables\n",
        "sns.scatterplot(x='Price', y='Property Type', data=df)\n",
        "plt.show()"
      ]
    },
    {
      "cell_type": "code",
      "execution_count": null,
      "metadata": {
        "colab": {
          "base_uri": "https://localhost:8080/",
          "height": 278
        },
        "id": "G9o2vQEIjXNj",
        "outputId": "7a3ecf12-cce8-4e31-bd0b-f2cbe0dfe0e1"
      },
      "outputs": [
        {
          "data": {
            "image/png": "[encoded data removed]",
            "text/plain": [
              "<Figure size 432x288 with 1 Axes>"
            ]
          },
          "metadata": {
            "needs_background": "light",
            "tags": []
          },
          "output_type": "display_data"
        }
      ],
      "source": [
        "sns.scatterplot(x='Price', y='Bed', data=df)\n",
        "plt.show()"
      ]
    },
    {
      "cell_type": "code",
      "execution_count": null,
      "metadata": {
        "colab": {
          "base_uri": "https://localhost:8080/",
          "height": 278
        },
        "id": "uu6VSE1YloS2",
        "outputId": "87a8d3cd-f357-4525-c2d3-79da4dcc9606"
      },
      "outputs": [
        {
          "data": {
            "image/png": "[encoded data removed]",
            "text/plain": [
              "<Figure size 432x288 with 1 Axes>"
            ]
          },
          "metadata": {
            "needs_background": "light",
            "tags": []
          },
          "output_type": "display_data"
        }
      ],
      "source": [
        "sns.scatterplot(x='Price', y='Gym', data=df)\n",
        "plt.show()"
      ]
    },
    {
      "cell_type": "code",
      "execution_count": null,
      "metadata": {
        "colab": {
          "base_uri": "https://localhost:8080/",
          "height": 278
        },
        "id": "j88tCBCHlv00",
        "outputId": "8644bf57-e75d-48b8-8085-c6931a6e7f7a"
      },
      "outputs": [
        {
          "data": {
            "image/png": "[encoded data removed]",
            "text/plain": [
              "<Figure size 432x288 with 1 Axes>"
            ]
          },
          "metadata": {
            "needs_background": "light",
            "tags": []
          },
          "output_type": "display_data"
        }
      ],
      "source": [
        "sns.scatterplot(x='Price', y='Pool', data=df)\n",
        "plt.show()\n",
        "#This scatterplot shows the relationship between Price and swimming pool"
      ]
    },
    {
      "cell_type": "code",
      "execution_count": null,
      "metadata": {
        "colab": {
          "base_uri": "https://localhost:8080/",
          "height": 290
        },
        "id": "W7rem40vl6eI",
        "outputId": "b17a7825-2c5b-406b-b50b-5767b778aba8"
      },
      "outputs": [
        {
          "data": {
            "image/png": "[encoded data removed]",
            "text/plain": [
              "<Figure size 432x288 with 1 Axes>"
            ]
          },
          "metadata": {
            "needs_background": "light",
            "tags": []
          },
          "output_type": "display_data"
        }
      ],
      "source": [
        "sns.histplot(data=df, x='Bed', y='Price');"
      ]
    },
    {
      "cell_type": "code",
      "execution_count": null,
      "metadata": {
        "colab": {
          "base_uri": "https://localhost:8080/",
          "height": 1000
        },
        "id": "h7y8h9wdmm--",
        "outputId": "4ba5712d-72ad-4e1c-9fe5-9ec9effdd082"
      },
      "outputs": [
        {
          "data": {
            "image/png": "[encoded data removed]",
            "text/plain": [
              "<Figure size 1620x1620 with 90 Axes>"
            ]
          },
          "metadata": {
            "needs_background": "light",
            "tags": []
          },
          "output_type": "display_data"
        }
      ],
      "source": [
        "#Let's visualize some of out features in pairs\n",
        "sns.pairplot(df[['Bed', 'Bath', 'Toilet',  'Property Type', 'Area', 'Electricity', 'Gym', 'Pool', 'Security Doors', 'CCTV', 'Price']])\n",
        "plt.show()"
      ]
    },
    {
      "cell_type": "code",
      "execution_count": null,
      "metadata": {
        "colab": {
          "base_uri": "https://localhost:8080/"
        },
        "id": "fUUpcC_Zoktu",
        "outputId": "dfcf51de-d088-43bf-b1a2-3905e4553796"
      },
      "outputs": [
        {
          "data": {
            "text/plain": [
              "Index(['Price', 'Bed', 'Bath', 'Toilet', 'Property Type', 'Area',\n",
              "       'Purchase Type', 'Parking Space', 'Security', 'Electricity',\n",
              "       'Furnished', 'Security Doors', 'CCTV', 'BQ', 'Gym', 'Pool'],\n",
              "      dtype='object')"
            ]
          },
          "execution_count": 45,
          "metadata": {
            "tags": []
          },
          "output_type": "execute_result"
        }
      ],
      "source": [
        "df.columns"
      ]
    },
    {
      "cell_type": "markdown",
      "metadata": {
        "id": "tud3QQT2uynl"
      },
      "source": [
        "  #### Machine learning modelling on the data"
      ]
    },
    {
      "cell_type": "code",
      "execution_count": null,
      "metadata": {
        "id": "lI8ClcLJ5DfB"
      },
      "outputs": [],
      "source": [
        "# Encoding the data manually\n",
        "#dictionary = {'ajah': 1, 'surulere': 2, 'yaba': 3, 'gbagada': 4, 'ikorodu': 5, 'lekki': 6, 'ikoyi': 7}"
      ]
    },
    {
      "cell_type": "code",
      "execution_count": null,
      "metadata": {
        "id": "2bXBEdvc63Vk"
      },
      "outputs": [],
      "source": [
        "#df['Area'] = df['Area'].map(dictionary)"
      ]
    },
    {
      "cell_type": "code",
      "execution_count": null,
      "metadata": {
        "id": "GW2DV6Ts7OOD"
      },
      "outputs": [],
      "source": [
        "#df['Area']"
      ]
    },
    {
      "cell_type": "code",
      "execution_count": null,
      "metadata": {
        "colab": {
          "base_uri": "https://localhost:8080/",
          "height": 391
        },
        "id": "VbLOE0pu7lzS",
        "outputId": "0bf420dd-de32-4c79-aaae-b14cd06bb30e"
      },
      "outputs": [
        {
          "data": {
            "text/html": [
              "<div>\n",
              "<style scoped>\n",
              "    .dataframe tbody tr th:only-of-type {\n",
              "        vertical-align: middle;\n",
              "    }\n",
              "\n",
              "    .dataframe tbody tr th {\n",
              "        vertical-align: top;\n",
              "    }\n",
              "\n",
              "    .dataframe thead th {\n",
              "        text-align: right;\n",
              "    }\n",
              "</style>\n",
              "<table border=\"1\" class=\"dataframe\">\n",
              "  <thead>\n",
              "    <tr style=\"text-align: right;\">\n",
              "      <th></th>\n",
              "      <th>Price</th>\n",
              "      <th>Bed</th>\n",
              "      <th>Bath</th>\n",
              "      <th>Toilet</th>\n",
              "      <th>Property Type</th>\n",
              "      <th>Area</th>\n",
              "      <th>Purchase Type</th>\n",
              "      <th>Parking Space</th>\n",
              "      <th>Security</th>\n",
              "      <th>Electricity</th>\n",
              "      <th>Furnished</th>\n",
              "      <th>Security Doors</th>\n",
              "      <th>CCTV</th>\n",
              "      <th>BQ</th>\n",
              "      <th>Gym</th>\n",
              "      <th>Pool</th>\n",
              "    </tr>\n",
              "  </thead>\n",
              "  <tbody>\n",
              "    <tr>\n",
              "      <th>0</th>\n",
              "      <td>800000.0</td>\n",
              "      <td>2.0</td>\n",
              "      <td>3.0</td>\n",
              "      <td>3.0</td>\n",
              "      <td>Flat / apartment</td>\n",
              "      <td>ajah</td>\n",
              "      <td>rent</td>\n",
              "      <td>0</td>\n",
              "      <td>0</td>\n",
              "      <td>0</td>\n",
              "      <td>0</td>\n",
              "      <td>0</td>\n",
              "      <td>0</td>\n",
              "      <td>0</td>\n",
              "      <td>0</td>\n",
              "      <td>0</td>\n",
              "    </tr>\n",
              "    <tr>\n",
              "      <th>1</th>\n",
              "      <td>700000.0</td>\n",
              "      <td>1.0</td>\n",
              "      <td>2.0</td>\n",
              "      <td>2.0</td>\n",
              "      <td>Mini flat</td>\n",
              "      <td>ajah</td>\n",
              "      <td>rent</td>\n",
              "      <td>0</td>\n",
              "      <td>0</td>\n",
              "      <td>0</td>\n",
              "      <td>0</td>\n",
              "      <td>0</td>\n",
              "      <td>0</td>\n",
              "      <td>0</td>\n",
              "      <td>0</td>\n",
              "      <td>0</td>\n",
              "    </tr>\n",
              "    <tr>\n",
              "      <th>2</th>\n",
              "      <td>900000.0</td>\n",
              "      <td>1.0</td>\n",
              "      <td>1.0</td>\n",
              "      <td>2.0</td>\n",
              "      <td>Mini flat</td>\n",
              "      <td>ajah</td>\n",
              "      <td>rent</td>\n",
              "      <td>0</td>\n",
              "      <td>0</td>\n",
              "      <td>0</td>\n",
              "      <td>0</td>\n",
              "      <td>0</td>\n",
              "      <td>0</td>\n",
              "      <td>0</td>\n",
              "      <td>0</td>\n",
              "      <td>0</td>\n",
              "    </tr>\n",
              "    <tr>\n",
              "      <th>3</th>\n",
              "      <td>1100000.0</td>\n",
              "      <td>3.0</td>\n",
              "      <td>3.0</td>\n",
              "      <td>4.0</td>\n",
              "      <td>Flat / apartment</td>\n",
              "      <td>ajah</td>\n",
              "      <td>rent</td>\n",
              "      <td>0</td>\n",
              "      <td>0</td>\n",
              "      <td>0</td>\n",
              "      <td>0</td>\n",
              "      <td>0</td>\n",
              "      <td>0</td>\n",
              "      <td>0</td>\n",
              "      <td>0</td>\n",
              "      <td>0</td>\n",
              "    </tr>\n",
              "    <tr>\n",
              "      <th>4</th>\n",
              "      <td>1800000.0</td>\n",
              "      <td>4.0</td>\n",
              "      <td>4.0</td>\n",
              "      <td>4.0</td>\n",
              "      <td>Detached bungalow</td>\n",
              "      <td>ajah</td>\n",
              "      <td>rent</td>\n",
              "      <td>1</td>\n",
              "      <td>0</td>\n",
              "      <td>0</td>\n",
              "      <td>1</td>\n",
              "      <td>0</td>\n",
              "      <td>0</td>\n",
              "      <td>1</td>\n",
              "      <td>0</td>\n",
              "      <td>0</td>\n",
              "    </tr>\n",
              "    <tr>\n",
              "      <th>...</th>\n",
              "      <td>...</td>\n",
              "      <td>...</td>\n",
              "      <td>...</td>\n",
              "      <td>...</td>\n",
              "      <td>...</td>\n",
              "      <td>...</td>\n",
              "      <td>...</td>\n",
              "      <td>...</td>\n",
              "      <td>...</td>\n",
              "      <td>...</td>\n",
              "      <td>...</td>\n",
              "      <td>...</td>\n",
              "      <td>...</td>\n",
              "      <td>...</td>\n",
              "      <td>...</td>\n",
              "      <td>...</td>\n",
              "    </tr>\n",
              "    <tr>\n",
              "      <th>28557</th>\n",
              "      <td>600000.0</td>\n",
              "      <td>2.0</td>\n",
              "      <td>2.0</td>\n",
              "      <td>2.0</td>\n",
              "      <td>Flat / apartment</td>\n",
              "      <td>yaba</td>\n",
              "      <td>rent</td>\n",
              "      <td>0</td>\n",
              "      <td>0</td>\n",
              "      <td>0</td>\n",
              "      <td>0</td>\n",
              "      <td>0</td>\n",
              "      <td>0</td>\n",
              "      <td>0</td>\n",
              "      <td>0</td>\n",
              "      <td>0</td>\n",
              "    </tr>\n",
              "    <tr>\n",
              "      <th>28558</th>\n",
              "      <td>600000.0</td>\n",
              "      <td>1.0</td>\n",
              "      <td>2.0</td>\n",
              "      <td>1.0</td>\n",
              "      <td>Mini flat</td>\n",
              "      <td>yaba</td>\n",
              "      <td>rent</td>\n",
              "      <td>0</td>\n",
              "      <td>0</td>\n",
              "      <td>0</td>\n",
              "      <td>0</td>\n",
              "      <td>0</td>\n",
              "      <td>0</td>\n",
              "      <td>0</td>\n",
              "      <td>0</td>\n",
              "      <td>0</td>\n",
              "    </tr>\n",
              "    <tr>\n",
              "      <th>28559</th>\n",
              "      <td>800000.0</td>\n",
              "      <td>3.0</td>\n",
              "      <td>3.0</td>\n",
              "      <td>4.0</td>\n",
              "      <td>Flat / apartment</td>\n",
              "      <td>yaba</td>\n",
              "      <td>rent</td>\n",
              "      <td>0</td>\n",
              "      <td>0</td>\n",
              "      <td>0</td>\n",
              "      <td>0</td>\n",
              "      <td>0</td>\n",
              "      <td>0</td>\n",
              "      <td>0</td>\n",
              "      <td>0</td>\n",
              "      <td>0</td>\n",
              "    </tr>\n",
              "    <tr>\n",
              "      <th>28560</th>\n",
              "      <td>600000.0</td>\n",
              "      <td>2.0</td>\n",
              "      <td>2.0</td>\n",
              "      <td>2.0</td>\n",
              "      <td>Flat / apartment</td>\n",
              "      <td>yaba</td>\n",
              "      <td>rent</td>\n",
              "      <td>0</td>\n",
              "      <td>0</td>\n",
              "      <td>0</td>\n",
              "      <td>0</td>\n",
              "      <td>0</td>\n",
              "      <td>0</td>\n",
              "      <td>0</td>\n",
              "      <td>0</td>\n",
              "      <td>0</td>\n",
              "    </tr>\n",
              "    <tr>\n",
              "      <th>28561</th>\n",
              "      <td>1800000.0</td>\n",
              "      <td>2.0</td>\n",
              "      <td>3.0</td>\n",
              "      <td>3.0</td>\n",
              "      <td>Flat / apartment</td>\n",
              "      <td>yaba</td>\n",
              "      <td>rent</td>\n",
              "      <td>0</td>\n",
              "      <td>1</td>\n",
              "      <td>0</td>\n",
              "      <td>0</td>\n",
              "      <td>0</td>\n",
              "      <td>0</td>\n",
              "      <td>0</td>\n",
              "      <td>0</td>\n",
              "      <td>1</td>\n",
              "    </tr>\n",
              "  </tbody>\n",
              "</table>\n",
              "<p>28562 rows × 16 columns</p>\n",
              "</div>"
            ],
            "text/plain": [
              "           Price  Bed  Bath  Toilet  ... CCTV BQ Gym  Pool\n",
              "0       800000.0  2.0   3.0     3.0  ...    0  0   0     0\n",
              "1       700000.0  1.0   2.0     2.0  ...    0  0   0     0\n",
              "2       900000.0  1.0   1.0     2.0  ...    0  0   0     0\n",
              "3      1100000.0  3.0   3.0     4.0  ...    0  0   0     0\n",
              "4      1800000.0  4.0   4.0     4.0  ...    0  1   0     0\n",
              "...          ...  ...   ...     ...  ...  ... ..  ..   ...\n",
              "28557   600000.0  2.0   2.0     2.0  ...    0  0   0     0\n",
              "28558   600000.0  1.0   2.0     1.0  ...    0  0   0     0\n",
              "28559   800000.0  3.0   3.0     4.0  ...    0  0   0     0\n",
              "28560   600000.0  2.0   2.0     2.0  ...    0  0   0     0\n",
              "28561  1800000.0  2.0   3.0     3.0  ...    0  0   0     1\n",
              "\n",
              "[28562 rows x 16 columns]"
            ]
          },
          "execution_count": 49,
          "metadata": {
            "tags": []
          },
          "output_type": "execute_result"
        }
      ],
      "source": [
        "df"
      ]
    },
    {
      "cell_type": "code",
      "execution_count": null,
      "metadata": {
        "id": "IPKrVPjJomtk"
      },
      "outputs": [],
      "source": [
        "# df.drop(['Purchase Type', 'Price'],axis=1, inplace=True )"
      ]
    },
    {
      "cell_type": "code",
      "execution_count": null,
      "metadata": {
        "id": "hgFF0hVVhARG"
      },
      "outputs": [],
      "source": [
        "# One Encoding categorical variables in our data\n",
        "from sklearn.preprocessing import OneHotEncoder, LabelEncoder"
      ]
    },
    {
      "cell_type": "code",
      "execution_count": null,
      "metadata": {
        "colab": {
          "base_uri": "https://localhost:8080/"
        },
        "id": "LQfH8vct75Ak",
        "outputId": "11038f80-8627-4611-f53e-237c3a34d2e6"
      },
      "outputs": [
        {
          "name": "stdout",
          "output_type": "stream",
          "text": [
            "Collecting catboost\n",
            "\u001b[?25l  Downloading https://files.pythonhosted.org/packages/96/3b/bb419654adcf7efff42ed8a3f84e50c8f236424b7ed1cc8ccd290852e003/catboost-0.24.4-cp37-none-manylinux1_x86_64.whl (65.7MB)\n",
            "\u001b[K     |████████████████████████████████| 65.7MB 58kB/s \n",
            "\u001b[?25hRequirement already satisfied: graphviz in /usr/local/lib/python3.7/dist-packages (from catboost) (0.10.1)\n",
            "Requirement already satisfied: plotly in /usr/local/lib/python3.7/dist-packages (from catboost) (4.4.1)\n",
            "Requirement already satisfied: matplotlib in /usr/local/lib/python3.7/dist-packages (from catboost) (3.2.2)\n",
            "Requirement already satisfied: scipy in /usr/local/lib/python3.7/dist-packages (from catboost) (1.4.1)\n",
            "Requirement already satisfied: pandas>=0.24.0 in /usr/local/lib/python3.7/dist-packages (from catboost) (1.1.5)\n",
            "Requirement already satisfied: six in /usr/local/lib/python3.7/dist-packages (from catboost) (1.15.0)\n",
            "Requirement already satisfied: numpy>=1.16.0 in /usr/local/lib/python3.7/dist-packages (from catboost) (1.19.5)\n",
            "Requirement already satisfied: retrying>=1.3.3 in /usr/local/lib/python3.7/dist-packages (from plotly->catboost) (1.3.3)\n",
            "Requirement already satisfied: pyparsing!=2.0.4,!=2.1.2,!=2.1.6,>=2.0.1 in /usr/local/lib/python3.7/dist-packages (from matplotlib->catboost) (2.4.7)\n",
            "Requirement already satisfied: python-dateutil>=2.1 in /usr/local/lib/python3.7/dist-packages (from matplotlib->catboost) (2.8.1)\n",
            "Requirement already satisfied: cycler>=0.10 in /usr/local/lib/python3.7/dist-packages (from matplotlib->catboost) (0.10.0)\n",
            "Requirement already satisfied: kiwisolver>=1.0.1 in /usr/local/lib/python3.7/dist-packages (from matplotlib->catboost) (1.3.1)\n",
            "Requirement already satisfied: pytz>=2017.2 in /usr/local/lib/python3.7/dist-packages (from pandas>=0.24.0->catboost) (2018.9)\n",
            "Installing collected packages: catboost\n",
            "Successfully installed catboost-0.24.4\n"
          ]
        }
      ],
      "source": [
        "pip install catboost"
      ]
    },
    {
      "cell_type": "code",
      "execution_count": null,
      "metadata": {
        "id": "gaIRYE-ViroS"
      },
      "outputs": [],
      "source": [
        " from catboost import CatBoostRegressor "
      ]
    },
    {
      "cell_type": "code",
      "execution_count": null,
      "metadata": {
        "colab": {
          "base_uri": "https://localhost:8080/",
          "height": 541
        },
        "id": "LNVb43u1iwA6",
        "outputId": "e78c5c60-ec85-44ad-b562-0b84c95f7fe6"
      },
      "outputs": [
        {
          "data": {
            "text/html": [
              "<div>\n",
              "<style scoped>\n",
              "    .dataframe tbody tr th:only-of-type {\n",
              "        vertical-align: middle;\n",
              "    }\n",
              "\n",
              "    .dataframe tbody tr th {\n",
              "        vertical-align: top;\n",
              "    }\n",
              "\n",
              "    .dataframe thead th {\n",
              "        text-align: right;\n",
              "    }\n",
              "</style>\n",
              "<table border=\"1\" class=\"dataframe\">\n",
              "  <thead>\n",
              "    <tr style=\"text-align: right;\">\n",
              "      <th></th>\n",
              "      <th>Price</th>\n",
              "      <th>Bed</th>\n",
              "      <th>Bath</th>\n",
              "      <th>Toilet</th>\n",
              "      <th>Property Type</th>\n",
              "      <th>Area</th>\n",
              "      <th>Purchase Type</th>\n",
              "      <th>Parking Space</th>\n",
              "      <th>Security</th>\n",
              "      <th>Electricity</th>\n",
              "      <th>Furnished</th>\n",
              "      <th>Security Doors</th>\n",
              "      <th>CCTV</th>\n",
              "      <th>BQ</th>\n",
              "      <th>Gym</th>\n",
              "      <th>Pool</th>\n",
              "      <th>0</th>\n",
              "      <th>1</th>\n",
              "      <th>2</th>\n",
              "      <th>3</th>\n",
              "      <th>4</th>\n",
              "      <th>5</th>\n",
              "      <th>6</th>\n",
              "      <th>7</th>\n",
              "      <th>8</th>\n",
              "      <th>9</th>\n",
              "      <th>10</th>\n",
              "      <th>11</th>\n",
              "      <th>12</th>\n",
              "      <th>13</th>\n",
              "      <th>14</th>\n",
              "      <th>15</th>\n",
              "      <th>16</th>\n",
              "      <th>17</th>\n",
              "      <th>18</th>\n",
              "      <th>19</th>\n",
              "    </tr>\n",
              "  </thead>\n",
              "  <tbody>\n",
              "    <tr>\n",
              "      <th>0</th>\n",
              "      <td>800000.0</td>\n",
              "      <td>2.0</td>\n",
              "      <td>3.0</td>\n",
              "      <td>3.0</td>\n",
              "      <td>Flat / apartment</td>\n",
              "      <td>ajah</td>\n",
              "      <td>rent</td>\n",
              "      <td>0</td>\n",
              "      <td>0</td>\n",
              "      <td>0</td>\n",
              "      <td>0</td>\n",
              "      <td>0</td>\n",
              "      <td>0</td>\n",
              "      <td>0</td>\n",
              "      <td>0</td>\n",
              "      <td>0</td>\n",
              "      <td>0.0</td>\n",
              "      <td>0.0</td>\n",
              "      <td>0.0</td>\n",
              "      <td>1.0</td>\n",
              "      <td>0.0</td>\n",
              "      <td>0.0</td>\n",
              "      <td>0.0</td>\n",
              "      <td>0.0</td>\n",
              "      <td>0.0</td>\n",
              "      <td>0.0</td>\n",
              "      <td>0.0</td>\n",
              "      <td>0.0</td>\n",
              "      <td>1.0</td>\n",
              "      <td>0.0</td>\n",
              "      <td>0.0</td>\n",
              "      <td>0.0</td>\n",
              "      <td>0.0</td>\n",
              "      <td>0.0</td>\n",
              "      <td>0.0</td>\n",
              "      <td>0.0</td>\n",
              "    </tr>\n",
              "    <tr>\n",
              "      <th>1</th>\n",
              "      <td>700000.0</td>\n",
              "      <td>1.0</td>\n",
              "      <td>2.0</td>\n",
              "      <td>2.0</td>\n",
              "      <td>Mini flat</td>\n",
              "      <td>ajah</td>\n",
              "      <td>rent</td>\n",
              "      <td>0</td>\n",
              "      <td>0</td>\n",
              "      <td>0</td>\n",
              "      <td>0</td>\n",
              "      <td>0</td>\n",
              "      <td>0</td>\n",
              "      <td>0</td>\n",
              "      <td>0</td>\n",
              "      <td>0</td>\n",
              "      <td>0.0</td>\n",
              "      <td>0.0</td>\n",
              "      <td>0.0</td>\n",
              "      <td>0.0</td>\n",
              "      <td>0.0</td>\n",
              "      <td>1.0</td>\n",
              "      <td>0.0</td>\n",
              "      <td>0.0</td>\n",
              "      <td>0.0</td>\n",
              "      <td>0.0</td>\n",
              "      <td>0.0</td>\n",
              "      <td>0.0</td>\n",
              "      <td>1.0</td>\n",
              "      <td>0.0</td>\n",
              "      <td>0.0</td>\n",
              "      <td>0.0</td>\n",
              "      <td>0.0</td>\n",
              "      <td>0.0</td>\n",
              "      <td>0.0</td>\n",
              "      <td>0.0</td>\n",
              "    </tr>\n",
              "    <tr>\n",
              "      <th>2</th>\n",
              "      <td>900000.0</td>\n",
              "      <td>1.0</td>\n",
              "      <td>1.0</td>\n",
              "      <td>2.0</td>\n",
              "      <td>Mini flat</td>\n",
              "      <td>ajah</td>\n",
              "      <td>rent</td>\n",
              "      <td>0</td>\n",
              "      <td>0</td>\n",
              "      <td>0</td>\n",
              "      <td>0</td>\n",
              "      <td>0</td>\n",
              "      <td>0</td>\n",
              "      <td>0</td>\n",
              "      <td>0</td>\n",
              "      <td>0</td>\n",
              "      <td>0.0</td>\n",
              "      <td>0.0</td>\n",
              "      <td>0.0</td>\n",
              "      <td>0.0</td>\n",
              "      <td>0.0</td>\n",
              "      <td>1.0</td>\n",
              "      <td>0.0</td>\n",
              "      <td>0.0</td>\n",
              "      <td>0.0</td>\n",
              "      <td>0.0</td>\n",
              "      <td>0.0</td>\n",
              "      <td>0.0</td>\n",
              "      <td>1.0</td>\n",
              "      <td>0.0</td>\n",
              "      <td>0.0</td>\n",
              "      <td>0.0</td>\n",
              "      <td>0.0</td>\n",
              "      <td>0.0</td>\n",
              "      <td>0.0</td>\n",
              "      <td>0.0</td>\n",
              "    </tr>\n",
              "    <tr>\n",
              "      <th>3</th>\n",
              "      <td>1100000.0</td>\n",
              "      <td>3.0</td>\n",
              "      <td>3.0</td>\n",
              "      <td>4.0</td>\n",
              "      <td>Flat / apartment</td>\n",
              "      <td>ajah</td>\n",
              "      <td>rent</td>\n",
              "      <td>0</td>\n",
              "      <td>0</td>\n",
              "      <td>0</td>\n",
              "      <td>0</td>\n",
              "      <td>0</td>\n",
              "      <td>0</td>\n",
              "      <td>0</td>\n",
              "      <td>0</td>\n",
              "      <td>0</td>\n",
              "      <td>0.0</td>\n",
              "      <td>0.0</td>\n",
              "      <td>0.0</td>\n",
              "      <td>1.0</td>\n",
              "      <td>0.0</td>\n",
              "      <td>0.0</td>\n",
              "      <td>0.0</td>\n",
              "      <td>0.0</td>\n",
              "      <td>0.0</td>\n",
              "      <td>0.0</td>\n",
              "      <td>0.0</td>\n",
              "      <td>0.0</td>\n",
              "      <td>1.0</td>\n",
              "      <td>0.0</td>\n",
              "      <td>0.0</td>\n",
              "      <td>0.0</td>\n",
              "      <td>0.0</td>\n",
              "      <td>0.0</td>\n",
              "      <td>0.0</td>\n",
              "      <td>0.0</td>\n",
              "    </tr>\n",
              "    <tr>\n",
              "      <th>4</th>\n",
              "      <td>1800000.0</td>\n",
              "      <td>4.0</td>\n",
              "      <td>4.0</td>\n",
              "      <td>4.0</td>\n",
              "      <td>Detached bungalow</td>\n",
              "      <td>ajah</td>\n",
              "      <td>rent</td>\n",
              "      <td>1</td>\n",
              "      <td>0</td>\n",
              "      <td>0</td>\n",
              "      <td>1</td>\n",
              "      <td>0</td>\n",
              "      <td>0</td>\n",
              "      <td>1</td>\n",
              "      <td>0</td>\n",
              "      <td>0</td>\n",
              "      <td>0.0</td>\n",
              "      <td>1.0</td>\n",
              "      <td>0.0</td>\n",
              "      <td>0.0</td>\n",
              "      <td>0.0</td>\n",
              "      <td>0.0</td>\n",
              "      <td>0.0</td>\n",
              "      <td>0.0</td>\n",
              "      <td>0.0</td>\n",
              "      <td>0.0</td>\n",
              "      <td>0.0</td>\n",
              "      <td>0.0</td>\n",
              "      <td>1.0</td>\n",
              "      <td>0.0</td>\n",
              "      <td>0.0</td>\n",
              "      <td>0.0</td>\n",
              "      <td>0.0</td>\n",
              "      <td>0.0</td>\n",
              "      <td>0.0</td>\n",
              "      <td>0.0</td>\n",
              "    </tr>\n",
              "    <tr>\n",
              "      <th>...</th>\n",
              "      <td>...</td>\n",
              "      <td>...</td>\n",
              "      <td>...</td>\n",
              "      <td>...</td>\n",
              "      <td>...</td>\n",
              "      <td>...</td>\n",
              "      <td>...</td>\n",
              "      <td>...</td>\n",
              "      <td>...</td>\n",
              "      <td>...</td>\n",
              "      <td>...</td>\n",
              "      <td>...</td>\n",
              "      <td>...</td>\n",
              "      <td>...</td>\n",
              "      <td>...</td>\n",
              "      <td>...</td>\n",
              "      <td>...</td>\n",
              "      <td>...</td>\n",
              "      <td>...</td>\n",
              "      <td>...</td>\n",
              "      <td>...</td>\n",
              "      <td>...</td>\n",
              "      <td>...</td>\n",
              "      <td>...</td>\n",
              "      <td>...</td>\n",
              "      <td>...</td>\n",
              "      <td>...</td>\n",
              "      <td>...</td>\n",
              "      <td>...</td>\n",
              "      <td>...</td>\n",
              "      <td>...</td>\n",
              "      <td>...</td>\n",
              "      <td>...</td>\n",
              "      <td>...</td>\n",
              "      <td>...</td>\n",
              "      <td>...</td>\n",
              "    </tr>\n",
              "    <tr>\n",
              "      <th>28557</th>\n",
              "      <td>600000.0</td>\n",
              "      <td>2.0</td>\n",
              "      <td>2.0</td>\n",
              "      <td>2.0</td>\n",
              "      <td>Flat / apartment</td>\n",
              "      <td>yaba</td>\n",
              "      <td>rent</td>\n",
              "      <td>0</td>\n",
              "      <td>0</td>\n",
              "      <td>0</td>\n",
              "      <td>0</td>\n",
              "      <td>0</td>\n",
              "      <td>0</td>\n",
              "      <td>0</td>\n",
              "      <td>0</td>\n",
              "      <td>0</td>\n",
              "      <td>0.0</td>\n",
              "      <td>0.0</td>\n",
              "      <td>0.0</td>\n",
              "      <td>1.0</td>\n",
              "      <td>0.0</td>\n",
              "      <td>0.0</td>\n",
              "      <td>0.0</td>\n",
              "      <td>0.0</td>\n",
              "      <td>0.0</td>\n",
              "      <td>0.0</td>\n",
              "      <td>0.0</td>\n",
              "      <td>0.0</td>\n",
              "      <td>0.0</td>\n",
              "      <td>0.0</td>\n",
              "      <td>0.0</td>\n",
              "      <td>0.0</td>\n",
              "      <td>0.0</td>\n",
              "      <td>0.0</td>\n",
              "      <td>0.0</td>\n",
              "      <td>1.0</td>\n",
              "    </tr>\n",
              "    <tr>\n",
              "      <th>28558</th>\n",
              "      <td>600000.0</td>\n",
              "      <td>1.0</td>\n",
              "      <td>2.0</td>\n",
              "      <td>1.0</td>\n",
              "      <td>Mini flat</td>\n",
              "      <td>yaba</td>\n",
              "      <td>rent</td>\n",
              "      <td>0</td>\n",
              "      <td>0</td>\n",
              "      <td>0</td>\n",
              "      <td>0</td>\n",
              "      <td>0</td>\n",
              "      <td>0</td>\n",
              "      <td>0</td>\n",
              "      <td>0</td>\n",
              "      <td>0</td>\n",
              "      <td>0.0</td>\n",
              "      <td>0.0</td>\n",
              "      <td>0.0</td>\n",
              "      <td>0.0</td>\n",
              "      <td>0.0</td>\n",
              "      <td>1.0</td>\n",
              "      <td>0.0</td>\n",
              "      <td>0.0</td>\n",
              "      <td>0.0</td>\n",
              "      <td>0.0</td>\n",
              "      <td>0.0</td>\n",
              "      <td>0.0</td>\n",
              "      <td>0.0</td>\n",
              "      <td>0.0</td>\n",
              "      <td>0.0</td>\n",
              "      <td>0.0</td>\n",
              "      <td>0.0</td>\n",
              "      <td>0.0</td>\n",
              "      <td>0.0</td>\n",
              "      <td>1.0</td>\n",
              "    </tr>\n",
              "    <tr>\n",
              "      <th>28559</th>\n",
              "      <td>800000.0</td>\n",
              "      <td>3.0</td>\n",
              "      <td>3.0</td>\n",
              "      <td>4.0</td>\n",
              "      <td>Flat / apartment</td>\n",
              "      <td>yaba</td>\n",
              "      <td>rent</td>\n",
              "      <td>0</td>\n",
              "      <td>0</td>\n",
              "      <td>0</td>\n",
              "      <td>0</td>\n",
              "      <td>0</td>\n",
              "      <td>0</td>\n",
              "      <td>0</td>\n",
              "      <td>0</td>\n",
              "      <td>0</td>\n",
              "      <td>0.0</td>\n",
              "      <td>0.0</td>\n",
              "      <td>0.0</td>\n",
              "      <td>1.0</td>\n",
              "      <td>0.0</td>\n",
              "      <td>0.0</td>\n",
              "      <td>0.0</td>\n",
              "      <td>0.0</td>\n",
              "      <td>0.0</td>\n",
              "      <td>0.0</td>\n",
              "      <td>0.0</td>\n",
              "      <td>0.0</td>\n",
              "      <td>0.0</td>\n",
              "      <td>0.0</td>\n",
              "      <td>0.0</td>\n",
              "      <td>0.0</td>\n",
              "      <td>0.0</td>\n",
              "      <td>0.0</td>\n",
              "      <td>0.0</td>\n",
              "      <td>1.0</td>\n",
              "    </tr>\n",
              "    <tr>\n",
              "      <th>28560</th>\n",
              "      <td>600000.0</td>\n",
              "      <td>2.0</td>\n",
              "      <td>2.0</td>\n",
              "      <td>2.0</td>\n",
              "      <td>Flat / apartment</td>\n",
              "      <td>yaba</td>\n",
              "      <td>rent</td>\n",
              "      <td>0</td>\n",
              "      <td>0</td>\n",
              "      <td>0</td>\n",
              "      <td>0</td>\n",
              "      <td>0</td>\n",
              "      <td>0</td>\n",
              "      <td>0</td>\n",
              "      <td>0</td>\n",
              "      <td>0</td>\n",
              "      <td>0.0</td>\n",
              "      <td>0.0</td>\n",
              "      <td>0.0</td>\n",
              "      <td>1.0</td>\n",
              "      <td>0.0</td>\n",
              "      <td>0.0</td>\n",
              "      <td>0.0</td>\n",
              "      <td>0.0</td>\n",
              "      <td>0.0</td>\n",
              "      <td>0.0</td>\n",
              "      <td>0.0</td>\n",
              "      <td>0.0</td>\n",
              "      <td>0.0</td>\n",
              "      <td>0.0</td>\n",
              "      <td>0.0</td>\n",
              "      <td>0.0</td>\n",
              "      <td>0.0</td>\n",
              "      <td>0.0</td>\n",
              "      <td>0.0</td>\n",
              "      <td>1.0</td>\n",
              "    </tr>\n",
              "    <tr>\n",
              "      <th>28561</th>\n",
              "      <td>1800000.0</td>\n",
              "      <td>2.0</td>\n",
              "      <td>3.0</td>\n",
              "      <td>3.0</td>\n",
              "      <td>Flat / apartment</td>\n",
              "      <td>yaba</td>\n",
              "      <td>rent</td>\n",
              "      <td>0</td>\n",
              "      <td>1</td>\n",
              "      <td>0</td>\n",
              "      <td>0</td>\n",
              "      <td>0</td>\n",
              "      <td>0</td>\n",
              "      <td>0</td>\n",
              "      <td>0</td>\n",
              "      <td>1</td>\n",
              "      <td>0.0</td>\n",
              "      <td>0.0</td>\n",
              "      <td>0.0</td>\n",
              "      <td>1.0</td>\n",
              "      <td>0.0</td>\n",
              "      <td>0.0</td>\n",
              "      <td>0.0</td>\n",
              "      <td>0.0</td>\n",
              "      <td>0.0</td>\n",
              "      <td>0.0</td>\n",
              "      <td>0.0</td>\n",
              "      <td>0.0</td>\n",
              "      <td>0.0</td>\n",
              "      <td>0.0</td>\n",
              "      <td>0.0</td>\n",
              "      <td>0.0</td>\n",
              "      <td>0.0</td>\n",
              "      <td>0.0</td>\n",
              "      <td>0.0</td>\n",
              "      <td>1.0</td>\n",
              "    </tr>\n",
              "  </tbody>\n",
              "</table>\n",
              "<p>28562 rows × 36 columns</p>\n",
              "</div>"
            ],
            "text/plain": [
              "           Price  Bed  Bath  Toilet      Property Type  ...   15   16   17   18   19\n",
              "0       800000.0  2.0   3.0     3.0   Flat / apartment  ...  0.0  0.0  0.0  0.0  0.0\n",
              "1       700000.0  1.0   2.0     2.0          Mini flat  ...  0.0  0.0  0.0  0.0  0.0\n",
              "2       900000.0  1.0   1.0     2.0          Mini flat  ...  0.0  0.0  0.0  0.0  0.0\n",
              "3      1100000.0  3.0   3.0     4.0   Flat / apartment  ...  0.0  0.0  0.0  0.0  0.0\n",
              "4      1800000.0  4.0   4.0     4.0  Detached bungalow  ...  0.0  0.0  0.0  0.0  0.0\n",
              "...          ...  ...   ...     ...                ...  ...  ...  ...  ...  ...  ...\n",
              "28557   600000.0  2.0   2.0     2.0   Flat / apartment  ...  0.0  0.0  0.0  0.0  1.0\n",
              "28558   600000.0  1.0   2.0     1.0          Mini flat  ...  0.0  0.0  0.0  0.0  1.0\n",
              "28559   800000.0  3.0   3.0     4.0   Flat / apartment  ...  0.0  0.0  0.0  0.0  1.0\n",
              "28560   600000.0  2.0   2.0     2.0   Flat / apartment  ...  0.0  0.0  0.0  0.0  1.0\n",
              "28561  1800000.0  2.0   3.0     3.0   Flat / apartment  ...  0.0  0.0  0.0  0.0  1.0\n",
              "\n",
              "[28562 rows x 36 columns]"
            ]
          },
          "execution_count": 54,
          "metadata": {
            "tags": []
          },
          "output_type": "execute_result"
        }
      ],
      "source": []
    },
    {
      "cell_type": "code",
      "execution_count": null,
      "metadata": {
        "id": "8MU9SoH0Hs_U"
      },
      "outputs": [],
      "source": [
        "X = df.loc[:, ~df.columns.isin(['Price'])]\n",
        "y = df['Price']"
      ]
    },
    {
      "cell_type": "code",
      "execution_count": null,
      "metadata": {
        "id": "kvclGluokDx_"
      },
      "outputs": [],
      "source": [
        "X_train, X_test, y_train, y_test = train_test_split(X, y, test_size=0.25, random_state=2)"
      ]
    },
    {
      "cell_type": "code",
      "execution_count": null,
      "metadata": {
        "colab": {
          "base_uri": "https://localhost:8080/"
        },
        "id": "ws87UcOOIl4r",
        "outputId": "5117542f-7dcb-4913-81c7-965a15c9e9e9"
      },
      "outputs": [
        {
          "data": {
            "text/plain": [
              "array([3, 4, 5])"
            ]
          },
          "execution_count": 20,
          "metadata": {
            "tags": []
          },
          "output_type": "execute_result"
        }
      ],
      "source": [
        "cate_features_index=np.where(X.dtypes == object) [0]; cate_features_index\n"
      ]
    },
    {
      "cell_type": "code",
      "execution_count": null,
      "metadata": {
        "colab": {
          "base_uri": "https://localhost:8080/"
        },
        "id": "3A1pNBQ8JdWQ",
        "outputId": "ecbb2861-1107-4cb2-9a07-bdeaebe017b7"
      },
      "outputs": [
        {
          "data": {
            "text/plain": [
              "6077     1200000.0\n",
              "23922     350000.0\n",
              "24074    1300000.0\n",
              "784      1000000.0\n",
              "16532    4000000.0\n",
              "           ...    \n",
              "18898    4500000.0\n",
              "11798    1500000.0\n",
              "6637     1000000.0\n",
              "2575      500000.0\n",
              "23720     300000.0\n",
              "Name: Price, Length: 21421, dtype: float64"
            ]
          },
          "execution_count": 23,
          "metadata": {
            "tags": []
          },
          "output_type": "execute_result"
        }
      ],
      "source": [
        "y_train"
      ]
    },
    {
      "cell_type": "code",
      "execution_count": null,
      "metadata": {
        "colab": {
          "base_uri": "https://localhost:8080/"
        },
        "id": "15JY7AMlI3t5",
        "outputId": "15ef8a82-208f-4e1b-bfba-45f6424bb584"
      },
      "outputs": [
        {
          "name": "stdout",
          "output_type": "stream",
          "text": [
            "Learning rate set to 0.082227\n",
            "0:\tlearn: 2962953.3074685\ttest: 2962603.2587521\ttest1: 2912728.1818626\tbest: 2912728.1818626 (0)\ttotal: 71.1ms\tremaining: 1m 11s\n",
            "100:\tlearn: 1352973.1817306\ttest: 1355497.3887569\ttest1: 1366425.8587813\tbest: 1366425.8587813 (100)\ttotal: 1.64s\tremaining: 14.6s\n",
            "200:\tlearn: 1319601.1413333\ttest: 1330372.5421914\ttest1: 1360800.9372499\tbest: 1360036.6124710 (196)\ttotal: 3.12s\tremaining: 12.4s\n",
            "300:\tlearn: 1297356.5210916\ttest: 1313221.3506840\ttest1: 1363701.2591640\tbest: 1360036.6124710 (196)\ttotal: 4.68s\tremaining: 10.9s\n",
            "Stopped by overfitting detector  (200 iterations wait)\n",
            "\n",
            "bestTest = 1360036.612\n",
            "bestIteration = 196\n",
            "\n",
            "Shrink model to first 197 iterations.\n"
          ]
        },
        {
          "data": {
            "text/plain": [
              "<catboost.core.CatBoostRegressor at 0x7f6e73d0fb90>"
            ]
          },
          "execution_count": 22,
          "metadata": {
            "tags": []
          },
          "output_type": "execute_result"
        }
      ],
      "source": [
        "cat = CatBoostRegressor()\n",
        "cat.fit(X_train,y_train, cat_features=cate_features_index,eval_set=[(X_train, y_train),(X_test, y_test)],verbose=100, early_stopping_rounds=200)"
      ]
    },
    {
      "cell_type": "markdown",
      "metadata": {
        "id": "ZZ-EaPvgkVLP"
      },
      "source": [
        "#### Modelling\n",
        "\n",
        "Random Forest"
      ]
    },
    {
      "cell_type": "code",
      "execution_count": null,
      "metadata": {
        "id": "NgRTdOXT3uCT"
      },
      "outputs": [],
      "source": [
        "#X = df.iloc[:,:-1].values\n",
        "#y = df.iloc[:,-1].values\n"
      ]
    },
    {
      "cell_type": "code",
      "execution_count": null,
      "metadata": {
        "id": "g7qm2rdc4p-L"
      },
      "outputs": [],
      "source": [
        "# Importing Necessary Libraries for modeling\n",
        "# Import random forest regressor\n",
        "from sklearn.ensemble import RandomForestRegressor\n",
        "from sklearn.model_selection import train_test_split"
      ]
    },
    {
      "cell_type": "code",
      "execution_count": null,
      "metadata": {
        "id": "Le6OK2pSmB9D"
      },
      "outputs": [],
      "source": []
    },
    {
      "cell_type": "code",
      "execution_count": null,
      "metadata": {
        "id": "IJLG2ZpDmUYz"
      },
      "outputs": [],
      "source": [
        "model = RandomForestRegressor()"
      ]
    },
    {
      "cell_type": "code",
      "execution_count": null,
      "metadata": {
        "colab": {
          "base_uri": "https://localhost:8080/"
        },
        "id": "Cd7q_i5Xmey4",
        "outputId": "a7871c8b-fb64-4214-c812-aea0be14746a"
      },
      "outputs": [
        {
          "data": {
            "text/plain": [
              "RandomForestRegressor(bootstrap=True, ccp_alpha=0.0, criterion='mse',\n",
              "                      max_depth=None, max_features='auto', max_leaf_nodes=None,\n",
              "                      max_samples=None, min_impurity_decrease=0.0,\n",
              "                      min_impurity_split=None, min_samples_leaf=1,\n",
              "                      min_samples_split=2, min_weight_fraction_leaf=0.0,\n",
              "                      n_estimators=100, n_jobs=None, oob_score=False,\n",
              "                      random_state=None, verbose=0, warm_start=False)"
            ]
          },
          "execution_count": 61,
          "metadata": {
            "tags": []
          },
          "output_type": "execute_result"
        }
      ],
      "source": [
        "model.fit(X_train, y_train)"
      ]
    },
    {
      "cell_type": "code",
      "execution_count": null,
      "metadata": {
        "colab": {
          "base_uri": "https://localhost:8080/"
        },
        "id": "qpZ4taCImqVn",
        "outputId": "4f403aae-40a2-4fba-d072-6d072a2f2104"
      },
      "outputs": [
        {
          "data": {
            "text/plain": [
              "0.7852817789744735"
            ]
          },
          "execution_count": 62,
          "metadata": {
            "tags": []
          },
          "output_type": "execute_result"
        }
      ],
      "source": [
        "model.score(X_test, y_test)"
      ]
    },
    {
      "cell_type": "markdown",
      "metadata": {
        "id": "Ks19799L0tsa"
      },
      "source": [
        "#### Root Mean Square Error of our Model\n",
        "\n",
        "Random Forest"
      ]
    },
    {
      "cell_type": "code",
      "execution_count": null,
      "metadata": {
        "id": "fQ3ackc81oqv"
      },
      "outputs": [],
      "source": [
        "from sklearn.metrics import mean_squared_error"
      ]
    },
    {
      "cell_type": "code",
      "execution_count": null,
      "metadata": {
        "id": "Z9JD7x5j0nnA"
      },
      "outputs": [],
      "source": [
        "y_pred  = model.predict(X_test)"
      ]
    },
    {
      "cell_type": "code",
      "execution_count": null,
      "metadata": {
        "colab": {
          "base_uri": "https://localhost:8080/"
        },
        "id": "idfH2ksK0tcQ",
        "outputId": "1c23650f-89e0-4b30-d632-1a660b0c4346"
      },
      "outputs": [
        {
          "data": {
            "text/plain": [
              "2070583381208.917"
            ]
          },
          "execution_count": 65,
          "metadata": {
            "tags": []
          },
          "output_type": "execute_result"
        }
      ],
      "source": [
        "mean_error = mean_squared_error(y_test,y_pred)\n",
        "mean_error"
      ]
    },
    {
      "cell_type": "code",
      "execution_count": null,
      "metadata": {
        "colab": {
          "base_uri": "https://localhost:8080/",
          "height": 265
        },
        "id": "X6v5h1-q1e9y",
        "outputId": "68deb2a3-e405-4efc-8111-2777e2a53622"
      },
      "outputs": [
        {
          "ename": "NameError",
          "evalue": "ignored",
          "output_type": "error",
          "traceback": [
            "\u001b[0;31m---------------------------------------------------------------------------\u001b[0m",
            "\u001b[0;31mNameError\u001b[0m                                 Traceback (most recent call last)",
            "\u001b[0;32m<ipython-input-1-7d977f85bcd0>\u001b[0m in \u001b[0;36m<module>\u001b[0;34m()\u001b[0m\n\u001b[0;32m----> 1\u001b[0;31m \u001b[0mnp\u001b[0m\u001b[0;34m.\u001b[0m\u001b[0msqrt\u001b[0m\u001b[0;34m(\u001b[0m\u001b[0mmean_error\u001b[0m\u001b[0;34m)\u001b[0m\u001b[0;34m\u001b[0m\u001b[0;34m\u001b[0m\u001b[0m\n\u001b[0m",
            "\u001b[0;31mNameError\u001b[0m: name 'np' is not defined"
          ]
        }
      ],
      "source": [
        "np.sqrt(mean_error)"
      ]
    },
    {
      "cell_type": "markdown",
      "metadata": {
        "id": "7iomM1Cd3CJO"
      },
      "source": [
        "#### Logistic Regression"
      ]
    },
    {
      "cell_type": "code",
      "execution_count": null,
      "metadata": {
        "id": "GJQaF99W2EDR"
      },
      "outputs": [],
      "source": [
        "from sklearn.linear_model import LogisticRegression"
      ]
    },
    {
      "cell_type": "code",
      "execution_count": null,
      "metadata": {
        "id": "tucPbnir2ck6"
      },
      "outputs": [],
      "source": [
        "sec_model = LogisticRegression()"
      ]
    },
    {
      "cell_type": "code",
      "execution_count": null,
      "metadata": {
        "colab": {
          "base_uri": "https://localhost:8080/"
        },
        "id": "9ZK_LbC52-2D",
        "outputId": "10dc4594-b9f4-4bc7-c293-7e527a3b02c7"
      },
      "outputs": [
        {
          "name": "stderr",
          "output_type": "stream",
          "text": [
            "/usr/local/lib/python3.7/dist-packages/sklearn/linear_model/_logistic.py:940: ConvergenceWarning: lbfgs failed to converge (status=1):\n",
            "STOP: TOTAL NO. of ITERATIONS REACHED LIMIT.\n",
            "\n",
            "Increase the number of iterations (max_iter) or scale the data as shown in:\n",
            "    https://scikit-learn.org/stable/modules/preprocessing.html\n",
            "Please also refer to the documentation for alternative solver options:\n",
            "    https://scikit-learn.org/stable/modules/linear_model.html#logistic-regression\n",
            "  extra_warning_msg=_LOGISTIC_SOLVER_CONVERGENCE_MSG)\n"
          ]
        },
        {
          "data": {
            "text/plain": [
              "LogisticRegression(C=1.0, class_weight=None, dual=False, fit_intercept=True,\n",
              "                   intercept_scaling=1, l1_ratio=None, max_iter=100,\n",
              "                   multi_class='auto', n_jobs=None, penalty='l2',\n",
              "                   random_state=None, solver='lbfgs', tol=0.0001, verbose=0,\n",
              "                   warm_start=False)"
            ]
          },
          "execution_count": 69,
          "metadata": {
            "tags": []
          },
          "output_type": "execute_result"
        }
      ],
      "source": [
        "sec_model.fit(X_train, y_train)"
      ]
    },
    {
      "cell_type": "code",
      "execution_count": null,
      "metadata": {
        "colab": {
          "base_uri": "https://localhost:8080/"
        },
        "id": "pb_euOcw46gk",
        "outputId": "741da4a3-4ee4-4a30-d9ef-afc7f1ad502e"
      },
      "outputs": [
        {
          "data": {
            "text/plain": [
              "0.16188208934322923"
            ]
          },
          "execution_count": 70,
          "metadata": {
            "tags": []
          },
          "output_type": "execute_result"
        }
      ],
      "source": [
        "sec_model.score(X_test, y_test)"
      ]
    },
    {
      "cell_type": "code",
      "execution_count": null,
      "metadata": {
        "id": "1Et3mIBB5QV7"
      },
      "outputs": [],
      "source": [
        "### Root mean square error\n",
        "n_pred  = sec_model.predict(X_test)"
      ]
    },
    {
      "cell_type": "code",
      "execution_count": null,
      "metadata": {
        "colab": {
          "base_uri": "https://localhost:8080/"
        },
        "id": "bK5m-3Xr6f3W",
        "outputId": "263cdb77-cd6d-4b42-c3e0-c748a77182d1"
      },
      "outputs": [
        {
          "data": {
            "text/plain": [
              "2494843712752.8228"
            ]
          },
          "execution_count": 72,
          "metadata": {
            "tags": []
          },
          "output_type": "execute_result"
        }
      ],
      "source": [
        "mse = mean_squared_error(y_test,n_pred)\n",
        "mse"
      ]
    },
    {
      "cell_type": "code",
      "execution_count": null,
      "metadata": {
        "colab": {
          "base_uri": "https://localhost:8080/"
        },
        "id": "QnwSATG66rtD",
        "outputId": "9af1ed8d-7c72-4054-95da-7e887f30f744"
      },
      "outputs": [
        {
          "data": {
            "text/plain": [
              "1579507.4272547194"
            ]
          },
          "execution_count": 73,
          "metadata": {
            "tags": []
          },
          "output_type": "execute_result"
        }
      ],
      "source": [
        "np.sqrt(mse)"
      ]
    },
    {
      "cell_type": "markdown",
      "metadata": {
        "id": "-ElhzJsq7HgW"
      },
      "source": [
        "#### Support Vector Machine"
      ]
    },
    {
      "cell_type": "code",
      "execution_count": null,
      "metadata": {
        "id": "bg7ZRTj87C74"
      },
      "outputs": [],
      "source": [
        "from sklearn.svm import SVR\n",
        "from sklearn.pipeline import make_pipeline\n",
        "from sklearn.preprocessing import StandardScaler"
      ]
    },
    {
      "cell_type": "code",
      "execution_count": null,
      "metadata": {
        "id": "1oJ_V_h677R-"
      },
      "outputs": [],
      "source": [
        "third_model = make_pipeline(StandardScaler(), SVR(C=1.0, epsilon=0.2))"
      ]
    },
    {
      "cell_type": "code",
      "execution_count": null,
      "metadata": {
        "colab": {
          "base_uri": "https://localhost:8080/"
        },
        "id": "UuzKDzkj8NO5",
        "outputId": "2f034568-a508-4a38-be31-3e19c4c279eb"
      },
      "outputs": [
        {
          "data": {
            "text/plain": [
              "Pipeline(memory=None,\n",
              "         steps=[('standardscaler',\n",
              "                 StandardScaler(copy=True, with_mean=True, with_std=True)),\n",
              "                ('svr',\n",
              "                 SVR(C=1.0, cache_size=200, coef0=0.0, degree=3, epsilon=0.2,\n",
              "                     gamma='scale', kernel='rbf', max_iter=-1, shrinking=True,\n",
              "                     tol=0.001, verbose=False))],\n",
              "         verbose=False)"
            ]
          },
          "execution_count": 77,
          "metadata": {
            "tags": []
          },
          "output_type": "execute_result"
        }
      ],
      "source": [
        "third_model.fit(X_train, y_train)"
      ]
    },
    {
      "cell_type": "code",
      "execution_count": null,
      "metadata": {
        "colab": {
          "base_uri": "https://localhost:8080/"
        },
        "id": "0La_Gxzk0h-D",
        "outputId": "f423f8bf-01b2-47f3-e5d5-e8a255944286"
      },
      "outputs": [
        {
          "data": {
            "text/plain": [
              "-0.13433999635264215"
            ]
          },
          "execution_count": 78,
          "metadata": {
            "tags": []
          },
          "output_type": "execute_result"
        }
      ],
      "source": [
        "third_model.score(X_test, y_test)"
      ]
    },
    {
      "cell_type": "code",
      "execution_count": null,
      "metadata": {
        "id": "ttmQmgC31EDh"
      },
      "outputs": [],
      "source": [
        "##### RMSE\n",
        "s_pred = third_model.predict(X_test)"
      ]
    },
    {
      "cell_type": "code",
      "execution_count": null,
      "metadata": {
        "colab": {
          "base_uri": "https://localhost:8080/"
        },
        "id": "8oyz8Tz_3DNL",
        "outputId": "1c1b99a3-803c-4e57-879b-519d6cd9a940"
      },
      "outputs": [
        {
          "data": {
            "text/plain": [
              "10938734187859.803"
            ]
          },
          "execution_count": 80,
          "metadata": {
            "tags": []
          },
          "output_type": "execute_result"
        }
      ],
      "source": [
        "error = mean_squared_error(s_pred, y_test)\n",
        "error"
      ]
    },
    {
      "cell_type": "code",
      "execution_count": null,
      "metadata": {
        "colab": {
          "base_uri": "https://localhost:8080/"
        },
        "id": "YvIBgMQ83PL2",
        "outputId": "1cbaf92e-f583-4d7e-a6ff-c7f0be32beb7"
      },
      "outputs": [
        {
          "data": {
            "text/plain": [
              "3307375.7252328927"
            ]
          },
          "execution_count": 81,
          "metadata": {
            "tags": []
          },
          "output_type": "execute_result"
        }
      ],
      "source": [
        "np.sqrt(error)"
      ]
    },
    {
      "cell_type": "markdown",
      "metadata": {
        "id": "MJ8XvPHm3Z5a"
      },
      "source": [
        "#### Catboost"
      ]
    },
    {
      "cell_type": "code",
      "execution_count": null,
      "metadata": {
        "id": "XpA2NxOy3VLN"
      },
      "outputs": [],
      "source": []
    }
  ],
  "metadata": {
    "colab": {
      "collapsed_sections": [
        "ZZ-EaPvgkVLP",
        "Ks19799L0tsa",
        "7iomM1Cd3CJO"
      ],
      "name": "Project the GradientBoost.ipynb",
      "provenance": [],
      "toc_visible": true
    },
    "kernelspec": {
      "display_name": "Python 3.8.5 64-bit",
      "name": "python385jvsc74a57bd031f2aee4e71d21fbe5cf8b01ff0e069b9275f58929596ceb00d14d90e3e16cd6"
    },
    "language_info": {
      "name": "python",
      "version": ""
    },
    "metadata": {
      "interpreter": {
        "hash": "31f2aee4e71d21fbe5cf8b01ff0e069b9275f58929596ceb00d14d90e3e16cd6"
      }
    }
  },
  "nbformat": 4,
  "nbformat_minor": 0
}